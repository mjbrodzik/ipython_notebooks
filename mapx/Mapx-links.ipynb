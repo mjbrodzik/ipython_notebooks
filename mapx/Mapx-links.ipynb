{
 "cells": [
  {
   "cell_type": "code",
   "execution_count": 1,
   "metadata": {
    "collapsed": false
   },
   "outputs": [],
   "source": [
    "import ctypes\n",
    "libmapx = ctypes.CDLL(\"/Users/brodzik/lib/libmapx.dylib\", ctypes.RTLD_GLOBAL)"
   ]
  },
  {
   "cell_type": "code",
   "execution_count": 2,
   "metadata": {
    "collapsed": false
   },
   "outputs": [
    {
     "data": {
      "text/plain": [
       "<CDLL '/Users/brodzik/lib/libmapx.dylib', handle 103aa6350 at 1045b1890>"
      ]
     },
     "execution_count": 2,
     "metadata": {},
     "output_type": "execute_result"
    }
   ],
   "source": [
    "libmapx"
   ]
  },
  {
   "cell_type": "code",
   "execution_count": 3,
   "metadata": {
    "collapsed": false
   },
   "outputs": [],
   "source": [
    "class GRID (ctypes.Structure) :\n",
    "    _fields_ = [(\"map_origin_col\", ctypes.c_double),\n",
    "\t\t(\"map_origin_row\", ctypes.c_double),\n",
    "\t\t(\"cols_per_map_unit\", ctypes.c_double),\n",
    "\t\t(\"rows_per_map_unit\", ctypes.c_double),\n",
    "\t\t(\"u_min\", ctypes.c_double),\n",
    "\t\t(\"u_max\", ctypes.c_double),\n",
    "\t\t(\"cols\", ctypes.c_int),\n",
    "\t\t(\"rows\", ctypes.c_int),\n",
    "\t\t(\"gpd_file_ptr\", ctypes.c_void_p),\n",
    "\t\t(\"gpd_filename\", ctypes.c_char_p),\n",
    "\t\t(\"mapx_class\", ctypes.c_void_p)     ]\n"
   ]
  },
  {
   "cell_type": "code",
   "execution_count": 4,
   "metadata": {
    "collapsed": false
   },
   "outputs": [],
   "source": [
    "libmapx.init_grid.restype = ctypes.POINTER(GRID)"
   ]
  },
  {
   "cell_type": "code",
   "execution_count": 7,
   "metadata": {
    "collapsed": false
   },
   "outputs": [],
   "source": [
    "grid_p = libmapx.init_grid(\"/Users/brodzik/lib/maps/EASE2_M25km.gpd\")\n",
    "grid = libmapx.init_grid(\"/Users/brodzik/lib/maps/EASE2_M25km.gpd\")[0]"
   ]
  },
  {
   "cell_type": "code",
   "execution_count": 8,
   "metadata": {
    "collapsed": false
   },
   "outputs": [
    {
     "name": "stdout",
     "output_type": "stream",
     "text": [
      "0.0 -0.5 1388 584\n"
     ]
    }
   ],
   "source": [
    "print grid.u_min, grid.map_origin_row, grid.cols, grid.rows"
   ]
  },
  {
   "cell_type": "code",
   "execution_count": 23,
   "metadata": {
    "collapsed": false
   },
   "outputs": [],
   "source": [
    "libmapx.forward_grid.argtypes = [ctypes.POINTER(GRID), ctypes.c_double, ctypes.c_double,\n",
    "\t\t\t\t ctypes.POINTER(ctypes.c_double), ctypes.POINTER(ctypes.c_double)]"
   ]
  },
  {
   "cell_type": "code",
   "execution_count": 28,
   "metadata": {
    "collapsed": false
   },
   "outputs": [],
   "source": [
    "grid\n",
    "lat, lon, r, s = ctypes.c_double(25.0), ctypes.c_double(0.0), ctypes.c_double(0.0), ctypes.c_double(0.0)\n",
    "result = libmapx.forward_grid(grid, lat, lon, ctypes.byref(r), ctypes.byref(s))"
   ]
  },
  {
   "cell_type": "code",
   "execution_count": 29,
   "metadata": {
    "collapsed": false
   },
   "outputs": [
    {
     "name": "stdout",
     "output_type": "stream",
     "text": [
      "1 25.0 0.0 693.5 167.962599743\n"
     ]
    }
   ],
   "source": [
    "print result, lat.value, lon.value, r.value, s.value"
   ]
  },
  {
   "cell_type": "code",
   "execution_count": 30,
   "metadata": {
    "collapsed": false
   },
   "outputs": [
    {
     "name": "stdout",
     "output_type": "stream",
     "text": [
      "1 693.5 167.962599743 24.9999999864 0.0\n"
     ]
    }
   ],
   "source": [
    "libmapx.inverse_grid.argtypes = [ctypes.POINTER(GRID),\n",
    "\t\t\t\t ctypes.c_double, ctypes.c_double,\n",
    "\t\t\t\t ctypes.POINTER(ctypes.c_double),\n",
    "\t\t\t\t ctypes.POINTER(ctypes.c_double)  ]\n",
    "inv = libmapx.inverse_grid(grid, r, s, ctypes.byref(lat), ctypes.byref(lon))\n",
    "print inv, r.value, s.value, lat.value, lon.value"
   ]
  },
  {
   "cell_type": "code",
   "execution_count": 33,
   "metadata": {
    "collapsed": false
   },
   "outputs": [
    {
     "name": "stdout",
     "output_type": "stream",
     "text": [
      "/Users/brodzik/lib/maps/EASE2_M25km.gpd 140735238571264\n",
      "-25.0 0.0 0.0 0.0\n",
      "-25.0 0.0 693.5 415.037400257\n"
     ]
    }
   ],
   "source": [
    "print grid_p[0].gpd_filename, grid_p[0].gpd_file_ptr\n",
    "lat = ctypes.c_double(-25.0)\n",
    "lon = ctypes.c_double(0.0)\n",
    "r = ctypes.c_double(0.0)\n",
    "s = ctypes.c_double(0.0)\n",
    "print lat.value, lon.value, r.value, s.value\n",
    "libmapx.forward_grid(grid_p, lat, lon, ctypes.byref(r), ctypes.byref(s))\n",
    "print lat.value, lon.value, r.value, s.value"
   ]
  },
  {
   "cell_type": "code",
   "execution_count": 34,
   "metadata": {
    "collapsed": false
   },
   "outputs": [],
   "source": [
    "class FGRID(ctypes.Structure):\n",
    "    _fields_ = [(\"grid_p\", ctypes.POINTER(GRID)),\n",
    "\t\t(\"lat\", ctypes.c_double),\n",
    "\t\t(\"lon\", ctypes.c_double),\n",
    "\t\t(\"r\", ctypes.c_double),\n",
    "\t\t(\"s\", ctypes.c_double)             ]\n",
    "class RGRID(ctypes.Structure):\n",
    "    _fields_ = [(\"grid_p\", ctypes.POINTER(GRID)),\n",
    "\t\t(\"r\", ctypes.c_double),\n",
    "\t\t(\"s\", ctypes.c_double),\n",
    "\t\t(\"lat\", ctypes.c_double),\n",
    "\t\t(\"lon\", ctypes.c_double)             ]\n"
   ]
  },
  {
   "cell_type": "code",
   "execution_count": 35,
   "metadata": {
    "collapsed": false
   },
   "outputs": [],
   "source": [
    "libmapx.forward_grid.argtypes = [ctypes.POINTER(FGRID)]\n",
    "libmapx.inverse_grid.argtypes = [ctypes.POINTER(RGRID)]"
   ]
  },
  {
   "cell_type": "code",
   "execution_count": 36,
   "metadata": {
    "collapsed": false
   },
   "outputs": [],
   "source": [
    "fgrid = FGRID() \n",
    "fgrid.lon = 0.0\n",
    "fgrid.lat = 0.0\n",
    "fgrid.grid_p = grid_p\n"
   ]
  },
  {
   "cell_type": "code",
   "execution_count": 37,
   "metadata": {
    "collapsed": false
   },
   "outputs": [
    {
     "name": "stdout",
     "output_type": "stream",
     "text": [
      "0.0\n"
     ]
    }
   ],
   "source": [
    "print grid.u_min"
   ]
  },
  {
   "cell_type": "code",
   "execution_count": null,
   "metadata": {
    "collapsed": true
   },
   "outputs": [],
   "source": []
  }
 ],
 "metadata": {
  "kernelspec": {
   "display_name": "Python 2",
   "language": "python",
   "name": "python2"
  },
  "language_info": {
   "codemirror_mode": {
    "name": "ipython",
    "version": 2
   },
   "file_extension": ".py",
   "mimetype": "text/x-python",
   "name": "python",
   "nbconvert_exporter": "python",
   "pygments_lexer": "ipython2",
   "version": "2.7.10"
  }
 },
 "nbformat": 4,
 "nbformat_minor": 0
}
