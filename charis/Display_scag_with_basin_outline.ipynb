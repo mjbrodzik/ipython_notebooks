{
 "cells": [
  {
   "cell_type": "code",
   "execution_count": null,
   "metadata": {},
   "outputs": [],
   "source": [
    "%matplotlib notebook\n",
    "import cartopy.crs as ccrs\n",
    "import matplotlib.pyplot as plt"
   ]
  },
  {
   "cell_type": "code",
   "execution_count": null,
   "metadata": {},
   "outputs": [],
   "source": [
    "# check with mapx, this is UL corner of EASE-Grid 2.0 N!\n",
    "# Answer should be lon=-135. lat=-84.634050\n",
    "geod = ccrs.Geodetic()\n",
    "e2n = ccrs.LambertAzimuthalEqualArea(central_latitude=90.0)\n",
    "lon, lat = geod.transform_point(\n",
    "    x = -9000000.,\n",
    "    y = 9000000.,\n",
    "    src_crs=e2n)\n",
    "print(lon, lat)"
   ]
  },
  {
   "cell_type": "code",
   "execution_count": null,
   "metadata": {},
   "outputs": [],
   "source": [
    "# For e2s, answer should be lon=-45., lat=-84.634050\n",
    "e2s = ccrs.LambertAzimuthalEqualArea(central_latitude=-90.0)\n",
    "lon, lat = geod.transform_point(\n",
    "    x = -9000000.,\n",
    "    y = 9000000.,\n",
    "    src_crs=e2s)\n",
    "print(lon, lat)"
   ]
  },
  {
   "cell_type": "markdown",
   "metadata": {},
   "source": [
    "# Using cartopy's io shapefile interface to read Hunza basin shapefile"
   ]
  },
  {
   "cell_type": "code",
   "execution_count": null,
   "metadata": {},
   "outputs": [],
   "source": [
    "import cartopy.io.shapereader as shpreader\n",
    "import shapely.geometry as sgeom\n",
    "\n",
    "bfile = '/Users/brodzik/Desktop/GIS_data/basins/IN_Hunza_at_DainyorBridge.shp'"
   ]
  },
  {
   "cell_type": "code",
   "execution_count": null,
   "metadata": {},
   "outputs": [],
   "source": [
    "reader = shpreader.Reader(bfile)\n",
    "record = next(reader.records())"
   ]
  },
  {
   "cell_type": "code",
   "execution_count": null,
   "metadata": {},
   "outputs": [],
   "source": [
    "record"
   ]
  },
  {
   "cell_type": "code",
   "execution_count": null,
   "metadata": {},
   "outputs": [],
   "source": [
    "record.attributes"
   ]
  },
  {
   "cell_type": "code",
   "execution_count": null,
   "metadata": {},
   "outputs": [],
   "source": [
    "record.bounds"
   ]
  },
  {
   "cell_type": "code",
   "execution_count": null,
   "metadata": {},
   "outputs": [],
   "source": [
    "record.geometry"
   ]
  },
  {
   "cell_type": "code",
   "execution_count": null,
   "metadata": {
    "scrolled": false
   },
   "outputs": [],
   "source": [
    "help(record)"
   ]
  },
  {
   "cell_type": "markdown",
   "metadata": {},
   "source": [
    "# What does it mean to get a projected geometry?\n",
    "# Converts the shapefile geod  to E2N?"
   ]
  },
  {
   "cell_type": "code",
   "execution_count": null,
   "metadata": {},
   "outputs": [],
   "source": [
    "e2n_basin = e2n.project_geometry(record.geometry)"
   ]
  },
  {
   "cell_type": "code",
   "execution_count": null,
   "metadata": {
    "scrolled": false
   },
   "outputs": [],
   "source": [
    "plt.figure()\n",
    "\n",
    "ax = plt.axes(projection=e2n)\n",
    "ax.set_extent([0., 9000000., -9000000., 0.], crs=e2n)\n",
    "ax.gridlines(color='gray', linestyle='--')\n",
    "ax.coastlines()\n",
    "\n",
    "ax.add_geometries(\n",
    "    [e2n_basin], e2n,\n",
    "    edgecolors='red', facecolor='none', lw=2)\n",
    "\n",
    "\n",
    "plt.tight_layout()\n",
    "plt.show()\n"
   ]
  },
  {
   "cell_type": "code",
   "execution_count": null,
   "metadata": {},
   "outputs": [],
   "source": [
    "from netCDF4 import Dataset"
   ]
  },
  {
   "cell_type": "code",
   "execution_count": null,
   "metadata": {},
   "outputs": [],
   "source": [
    "cetbfile = '/Users/brodzik/cetb_data/v1.3/AQUA_AMSRE/2004164/NSIDC-0630-EASE2_N3.125km-AQUA_AMSRE-2004164-36H-M-SIR-RSS-v1.3.nc'\n",
    "f = Dataset(cetbfile, 'r', 'netCDF4')\n",
    "f"
   ]
  },
  {
   "cell_type": "code",
   "execution_count": null,
   "metadata": {},
   "outputs": [],
   "source": [
    "import numpy as np\n",
    "tb = np.squeeze(f.variables['TB'][:])\n",
    "tb.shape"
   ]
  },
  {
   "cell_type": "code",
   "execution_count": null,
   "metadata": {},
   "outputs": [],
   "source": [
    "plt.figure()\n",
    "\n",
    "ax = plt.axes(projection=e2n)\n",
    "extent = [-9000000., 9000000., -9000000., 9000000.] # [xmin, xmax, ymin, ymax] of UL corner\n",
    "ax.set_extent(extent, crs=e2n)\n",
    "ax.gridlines(color='gray', linestyle='--')\n",
    "ax.coastlines()\n",
    "\n",
    "ax.imshow(tb, extent=extent, transform=e2n, origin='upper')\n",
    "\n",
    "ax.add_geometries(\n",
    "    [e2n_basin], e2n,\n",
    "    edgecolors='red', facecolor='none', lw=2)\n",
    "\n",
    "plt.tight_layout()\n",
    "plt.show()\n"
   ]
  },
  {
   "cell_type": "code",
   "execution_count": null,
   "metadata": {},
   "outputs": [],
   "source": []
  }
 ],
 "metadata": {
  "kernelspec": {
   "display_name": "Python 3",
   "language": "python",
   "name": "python3"
  },
  "language_info": {
   "codemirror_mode": {
    "name": "ipython",
    "version": 3
   },
   "file_extension": ".py",
   "mimetype": "text/x-python",
   "name": "python",
   "nbconvert_exporter": "python",
   "pygments_lexer": "ipython3",
   "version": "3.6.7"
  }
 },
 "nbformat": 4,
 "nbformat_minor": 2
}
