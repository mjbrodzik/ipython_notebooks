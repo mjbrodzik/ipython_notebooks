{
 "cells": [
  {
   "cell_type": "code",
   "execution_count": 1,
   "metadata": {
    "collapsed": false
   },
   "outputs": [
    {
     "name": "stderr",
     "output_type": "stream",
     "text": [
      "/Users/brodzik/miniconda3/envs/charis/lib/python2.7/site-packages/matplotlib/font_manager.py:273: UserWarning: Matplotlib is building the font cache using fc-list. This may take a moment.\n",
      "  warnings.warn('Matplotlib is building the font cache using fc-list. This may take a moment.')\n"
     ]
    },
    {
     "name": "stdout",
     "output_type": "stream",
     "text": [
      "Populating the interactive namespace from numpy and matplotlib\n"
     ]
    }
   ],
   "source": [
    "%pylab notebook\n",
    "from __future__ import print_function\n",
    "import glob\n",
    "import numpy as np\n",
    "import pandas as pd\n",
    "import re\n",
    "import sys"
   ]
  },
  {
   "cell_type": "code",
   "execution_count": 9,
   "metadata": {
    "collapsed": false
   },
   "outputs": [
    {
     "data": {
      "text/plain": [
       "'/Users/brodzik/charistools/source/charistools/test/test_files/cal_test_compare.out'"
      ]
     },
     "execution_count": 9,
     "metadata": {},
     "output_type": "execute_result"
    }
   ],
   "source": [
    "filename=\"/Users/brodzik/charistools/source/charistools/test/test_files/cal_test_compare.out\"\n",
    "filename"
   ]
  },
  {
   "cell_type": "code",
   "execution_count": 10,
   "metadata": {
    "collapsed": false
   },
   "outputs": [
    {
     "data": {
      "text/html": [
       "<div>\n",
       "<table border=\"1\" class=\"dataframe\">\n",
       "  <thead>\n",
       "    <tr style=\"text-align: right;\">\n",
       "      <th></th>\n",
       "      <th>DRAINAGEID</th>\n",
       "      <th>YYYY</th>\n",
       "      <th>min_snow_ddf</th>\n",
       "      <th>max_snow_ddf</th>\n",
       "      <th>min_ice_ddf</th>\n",
       "      <th>max_ice_ddf</th>\n",
       "    </tr>\n",
       "  </thead>\n",
       "  <tbody>\n",
       "    <tr>\n",
       "      <th>0</th>\n",
       "      <td>AM_Vakhsh_at_Komsomolabad</td>\n",
       "      <td>2004</td>\n",
       "      <td>1.0</td>\n",
       "      <td>6.00</td>\n",
       "      <td>1.00</td>\n",
       "      <td>11.00</td>\n",
       "    </tr>\n",
       "    <tr>\n",
       "      <th>1</th>\n",
       "      <td>AM_Vakhsh_at_Komsomolabad</td>\n",
       "      <td>2005</td>\n",
       "      <td>1.0</td>\n",
       "      <td>6.00</td>\n",
       "      <td>1.00</td>\n",
       "      <td>11.00</td>\n",
       "    </tr>\n",
       "    <tr>\n",
       "      <th>2</th>\n",
       "      <td>AM_Vakhsh_at_Komsomolabad</td>\n",
       "      <td>2007</td>\n",
       "      <td>1.0</td>\n",
       "      <td>6.00</td>\n",
       "      <td>1.00</td>\n",
       "      <td>11.00</td>\n",
       "    </tr>\n",
       "    <tr>\n",
       "      <th>3</th>\n",
       "      <td>AM_Vakhsh_at_Komsomolabad</td>\n",
       "      <td>2004</td>\n",
       "      <td>1.0</td>\n",
       "      <td>6.00</td>\n",
       "      <td>1.00</td>\n",
       "      <td>13.00</td>\n",
       "    </tr>\n",
       "    <tr>\n",
       "      <th>4</th>\n",
       "      <td>AM_Vakhsh_at_Komsomolabad</td>\n",
       "      <td>2005</td>\n",
       "      <td>1.0</td>\n",
       "      <td>6.00</td>\n",
       "      <td>1.00</td>\n",
       "      <td>13.00</td>\n",
       "    </tr>\n",
       "    <tr>\n",
       "      <th>5</th>\n",
       "      <td>AM_Vakhsh_at_Komsomolabad</td>\n",
       "      <td>2007</td>\n",
       "      <td>1.0</td>\n",
       "      <td>6.00</td>\n",
       "      <td>1.00</td>\n",
       "      <td>13.00</td>\n",
       "    </tr>\n",
       "    <tr>\n",
       "      <th>6</th>\n",
       "      <td>AM_Vakhsh_at_Komsomolabad</td>\n",
       "      <td>2004</td>\n",
       "      <td>0.1</td>\n",
       "      <td>1.56</td>\n",
       "      <td>2.03</td>\n",
       "      <td>3.33</td>\n",
       "    </tr>\n",
       "    <tr>\n",
       "      <th>7</th>\n",
       "      <td>AM_Vakhsh_at_Komsomolabad</td>\n",
       "      <td>2005</td>\n",
       "      <td>0.1</td>\n",
       "      <td>1.56</td>\n",
       "      <td>2.03</td>\n",
       "      <td>3.33</td>\n",
       "    </tr>\n",
       "    <tr>\n",
       "      <th>8</th>\n",
       "      <td>AM_Vakhsh_at_Komsomolabad</td>\n",
       "      <td>2007</td>\n",
       "      <td>0.1</td>\n",
       "      <td>1.56</td>\n",
       "      <td>2.03</td>\n",
       "      <td>3.33</td>\n",
       "    </tr>\n",
       "    <tr>\n",
       "      <th>9</th>\n",
       "      <td>AM_Vakhsh_at_Komsomolabad</td>\n",
       "      <td>2004</td>\n",
       "      <td>3.0</td>\n",
       "      <td>5.44</td>\n",
       "      <td>2.36</td>\n",
       "      <td>3.33</td>\n",
       "    </tr>\n",
       "    <tr>\n",
       "      <th>10</th>\n",
       "      <td>AM_Vakhsh_at_Komsomolabad</td>\n",
       "      <td>2005</td>\n",
       "      <td>3.0</td>\n",
       "      <td>5.44</td>\n",
       "      <td>2.36</td>\n",
       "      <td>3.33</td>\n",
       "    </tr>\n",
       "    <tr>\n",
       "      <th>11</th>\n",
       "      <td>AM_Vakhsh_at_Komsomolabad</td>\n",
       "      <td>2007</td>\n",
       "      <td>3.0</td>\n",
       "      <td>5.44</td>\n",
       "      <td>2.36</td>\n",
       "      <td>3.33</td>\n",
       "    </tr>\n",
       "    <tr>\n",
       "      <th>12</th>\n",
       "      <td>AM_Vakhsh_at_Komsomolabad</td>\n",
       "      <td>2004</td>\n",
       "      <td>1.0</td>\n",
       "      <td>6.00</td>\n",
       "      <td>1.00</td>\n",
       "      <td>11.00</td>\n",
       "    </tr>\n",
       "    <tr>\n",
       "      <th>13</th>\n",
       "      <td>AM_Vakhsh_at_Komsomolabad</td>\n",
       "      <td>2005</td>\n",
       "      <td>1.0</td>\n",
       "      <td>6.00</td>\n",
       "      <td>1.00</td>\n",
       "      <td>11.00</td>\n",
       "    </tr>\n",
       "    <tr>\n",
       "      <th>14</th>\n",
       "      <td>AM_Vakhsh_at_Komsomolabad</td>\n",
       "      <td>2007</td>\n",
       "      <td>1.0</td>\n",
       "      <td>6.00</td>\n",
       "      <td>1.00</td>\n",
       "      <td>11.00</td>\n",
       "    </tr>\n",
       "    <tr>\n",
       "      <th>15</th>\n",
       "      <td>AM_Vakhsh_at_Komsomolabad</td>\n",
       "      <td>2004</td>\n",
       "      <td>1.0</td>\n",
       "      <td>6.00</td>\n",
       "      <td>1.00</td>\n",
       "      <td>13.00</td>\n",
       "    </tr>\n",
       "    <tr>\n",
       "      <th>16</th>\n",
       "      <td>AM_Vakhsh_at_Komsomolabad</td>\n",
       "      <td>2005</td>\n",
       "      <td>1.0</td>\n",
       "      <td>6.00</td>\n",
       "      <td>1.00</td>\n",
       "      <td>13.00</td>\n",
       "    </tr>\n",
       "    <tr>\n",
       "      <th>17</th>\n",
       "      <td>AM_Vakhsh_at_Komsomolabad</td>\n",
       "      <td>2007</td>\n",
       "      <td>1.0</td>\n",
       "      <td>6.00</td>\n",
       "      <td>1.00</td>\n",
       "      <td>13.00</td>\n",
       "    </tr>\n",
       "  </tbody>\n",
       "</table>\n",
       "</div>"
      ],
      "text/plain": [
       "                   DRAINAGEID  YYYY  min_snow_ddf  max_snow_ddf  min_ice_ddf  \\\n",
       "0   AM_Vakhsh_at_Komsomolabad  2004           1.0          6.00         1.00   \n",
       "1   AM_Vakhsh_at_Komsomolabad  2005           1.0          6.00         1.00   \n",
       "2   AM_Vakhsh_at_Komsomolabad  2007           1.0          6.00         1.00   \n",
       "3   AM_Vakhsh_at_Komsomolabad  2004           1.0          6.00         1.00   \n",
       "4   AM_Vakhsh_at_Komsomolabad  2005           1.0          6.00         1.00   \n",
       "5   AM_Vakhsh_at_Komsomolabad  2007           1.0          6.00         1.00   \n",
       "6   AM_Vakhsh_at_Komsomolabad  2004           0.1          1.56         2.03   \n",
       "7   AM_Vakhsh_at_Komsomolabad  2005           0.1          1.56         2.03   \n",
       "8   AM_Vakhsh_at_Komsomolabad  2007           0.1          1.56         2.03   \n",
       "9   AM_Vakhsh_at_Komsomolabad  2004           3.0          5.44         2.36   \n",
       "10  AM_Vakhsh_at_Komsomolabad  2005           3.0          5.44         2.36   \n",
       "11  AM_Vakhsh_at_Komsomolabad  2007           3.0          5.44         2.36   \n",
       "12  AM_Vakhsh_at_Komsomolabad  2004           1.0          6.00         1.00   \n",
       "13  AM_Vakhsh_at_Komsomolabad  2005           1.0          6.00         1.00   \n",
       "14  AM_Vakhsh_at_Komsomolabad  2007           1.0          6.00         1.00   \n",
       "15  AM_Vakhsh_at_Komsomolabad  2004           1.0          6.00         1.00   \n",
       "16  AM_Vakhsh_at_Komsomolabad  2005           1.0          6.00         1.00   \n",
       "17  AM_Vakhsh_at_Komsomolabad  2007           1.0          6.00         1.00   \n",
       "\n",
       "    max_ice_ddf  \n",
       "0         11.00  \n",
       "1         11.00  \n",
       "2         11.00  \n",
       "3         13.00  \n",
       "4         13.00  \n",
       "5         13.00  \n",
       "6          3.33  \n",
       "7          3.33  \n",
       "8          3.33  \n",
       "9          3.33  \n",
       "10         3.33  \n",
       "11         3.33  \n",
       "12        11.00  \n",
       "13        11.00  \n",
       "14        11.00  \n",
       "15        13.00  \n",
       "16        13.00  \n",
       "17        13.00  "
      ]
     },
     "execution_count": 10,
     "metadata": {},
     "output_type": "execute_result"
    }
   ],
   "source": [
    "# Read the data and subset for just a couple columns\n",
    "df = pd.read_table(filename, sep='\\s+')\n",
    "subdf = df.loc[:,['DRAINAGEID','YYYY','min_snow_ddf','max_snow_ddf','min_ice_ddf','max_ice_ddf']]\n",
    "subdf"
   ]
  },
  {
   "cell_type": "code",
   "execution_count": 11,
   "metadata": {
    "collapsed": false
   },
   "outputs": [
    {
     "data": {
      "text/html": [
       "<div>\n",
       "<table border=\"1\" class=\"dataframe\">\n",
       "  <thead>\n",
       "    <tr style=\"text-align: right;\">\n",
       "      <th></th>\n",
       "      <th>DRAINAGEID</th>\n",
       "      <th>YYYY</th>\n",
       "      <th>min_snow_ddf</th>\n",
       "      <th>max_snow_ddf</th>\n",
       "      <th>min_ice_ddf</th>\n",
       "      <th>max_ice_ddf</th>\n",
       "      <th>model</th>\n",
       "    </tr>\n",
       "  </thead>\n",
       "  <tbody>\n",
       "    <tr>\n",
       "      <th>0</th>\n",
       "      <td>AM_Vakhsh_at_Komsomolabad</td>\n",
       "      <td>2004</td>\n",
       "      <td>1.0</td>\n",
       "      <td>6.00</td>\n",
       "      <td>1.00</td>\n",
       "      <td>11.00</td>\n",
       "      <td>1.0_6.0_1.0_11.0</td>\n",
       "    </tr>\n",
       "    <tr>\n",
       "      <th>1</th>\n",
       "      <td>AM_Vakhsh_at_Komsomolabad</td>\n",
       "      <td>2005</td>\n",
       "      <td>1.0</td>\n",
       "      <td>6.00</td>\n",
       "      <td>1.00</td>\n",
       "      <td>11.00</td>\n",
       "      <td>1.0_6.0_1.0_11.0</td>\n",
       "    </tr>\n",
       "    <tr>\n",
       "      <th>2</th>\n",
       "      <td>AM_Vakhsh_at_Komsomolabad</td>\n",
       "      <td>2007</td>\n",
       "      <td>1.0</td>\n",
       "      <td>6.00</td>\n",
       "      <td>1.00</td>\n",
       "      <td>11.00</td>\n",
       "      <td>1.0_6.0_1.0_11.0</td>\n",
       "    </tr>\n",
       "    <tr>\n",
       "      <th>3</th>\n",
       "      <td>AM_Vakhsh_at_Komsomolabad</td>\n",
       "      <td>2004</td>\n",
       "      <td>1.0</td>\n",
       "      <td>6.00</td>\n",
       "      <td>1.00</td>\n",
       "      <td>13.00</td>\n",
       "      <td>1.0_6.0_1.0_13.0</td>\n",
       "    </tr>\n",
       "    <tr>\n",
       "      <th>4</th>\n",
       "      <td>AM_Vakhsh_at_Komsomolabad</td>\n",
       "      <td>2005</td>\n",
       "      <td>1.0</td>\n",
       "      <td>6.00</td>\n",
       "      <td>1.00</td>\n",
       "      <td>13.00</td>\n",
       "      <td>1.0_6.0_1.0_13.0</td>\n",
       "    </tr>\n",
       "    <tr>\n",
       "      <th>5</th>\n",
       "      <td>AM_Vakhsh_at_Komsomolabad</td>\n",
       "      <td>2007</td>\n",
       "      <td>1.0</td>\n",
       "      <td>6.00</td>\n",
       "      <td>1.00</td>\n",
       "      <td>13.00</td>\n",
       "      <td>1.0_6.0_1.0_13.0</td>\n",
       "    </tr>\n",
       "    <tr>\n",
       "      <th>6</th>\n",
       "      <td>AM_Vakhsh_at_Komsomolabad</td>\n",
       "      <td>2004</td>\n",
       "      <td>0.1</td>\n",
       "      <td>1.56</td>\n",
       "      <td>2.03</td>\n",
       "      <td>3.33</td>\n",
       "      <td>0.1_1.56_2.03_3.33</td>\n",
       "    </tr>\n",
       "    <tr>\n",
       "      <th>7</th>\n",
       "      <td>AM_Vakhsh_at_Komsomolabad</td>\n",
       "      <td>2005</td>\n",
       "      <td>0.1</td>\n",
       "      <td>1.56</td>\n",
       "      <td>2.03</td>\n",
       "      <td>3.33</td>\n",
       "      <td>0.1_1.56_2.03_3.33</td>\n",
       "    </tr>\n",
       "    <tr>\n",
       "      <th>8</th>\n",
       "      <td>AM_Vakhsh_at_Komsomolabad</td>\n",
       "      <td>2007</td>\n",
       "      <td>0.1</td>\n",
       "      <td>1.56</td>\n",
       "      <td>2.03</td>\n",
       "      <td>3.33</td>\n",
       "      <td>0.1_1.56_2.03_3.33</td>\n",
       "    </tr>\n",
       "    <tr>\n",
       "      <th>9</th>\n",
       "      <td>AM_Vakhsh_at_Komsomolabad</td>\n",
       "      <td>2004</td>\n",
       "      <td>3.0</td>\n",
       "      <td>5.44</td>\n",
       "      <td>2.36</td>\n",
       "      <td>3.33</td>\n",
       "      <td>3.0_5.44_2.36_3.33</td>\n",
       "    </tr>\n",
       "    <tr>\n",
       "      <th>10</th>\n",
       "      <td>AM_Vakhsh_at_Komsomolabad</td>\n",
       "      <td>2005</td>\n",
       "      <td>3.0</td>\n",
       "      <td>5.44</td>\n",
       "      <td>2.36</td>\n",
       "      <td>3.33</td>\n",
       "      <td>3.0_5.44_2.36_3.33</td>\n",
       "    </tr>\n",
       "    <tr>\n",
       "      <th>11</th>\n",
       "      <td>AM_Vakhsh_at_Komsomolabad</td>\n",
       "      <td>2007</td>\n",
       "      <td>3.0</td>\n",
       "      <td>5.44</td>\n",
       "      <td>2.36</td>\n",
       "      <td>3.33</td>\n",
       "      <td>3.0_5.44_2.36_3.33</td>\n",
       "    </tr>\n",
       "    <tr>\n",
       "      <th>12</th>\n",
       "      <td>AM_Vakhsh_at_Komsomolabad</td>\n",
       "      <td>2004</td>\n",
       "      <td>1.0</td>\n",
       "      <td>6.00</td>\n",
       "      <td>1.00</td>\n",
       "      <td>11.00</td>\n",
       "      <td>1.0_6.0_1.0_11.0</td>\n",
       "    </tr>\n",
       "    <tr>\n",
       "      <th>13</th>\n",
       "      <td>AM_Vakhsh_at_Komsomolabad</td>\n",
       "      <td>2005</td>\n",
       "      <td>1.0</td>\n",
       "      <td>6.00</td>\n",
       "      <td>1.00</td>\n",
       "      <td>11.00</td>\n",
       "      <td>1.0_6.0_1.0_11.0</td>\n",
       "    </tr>\n",
       "    <tr>\n",
       "      <th>14</th>\n",
       "      <td>AM_Vakhsh_at_Komsomolabad</td>\n",
       "      <td>2007</td>\n",
       "      <td>1.0</td>\n",
       "      <td>6.00</td>\n",
       "      <td>1.00</td>\n",
       "      <td>11.00</td>\n",
       "      <td>1.0_6.0_1.0_11.0</td>\n",
       "    </tr>\n",
       "    <tr>\n",
       "      <th>15</th>\n",
       "      <td>AM_Vakhsh_at_Komsomolabad</td>\n",
       "      <td>2004</td>\n",
       "      <td>1.0</td>\n",
       "      <td>6.00</td>\n",
       "      <td>1.00</td>\n",
       "      <td>13.00</td>\n",
       "      <td>1.0_6.0_1.0_13.0</td>\n",
       "    </tr>\n",
       "    <tr>\n",
       "      <th>16</th>\n",
       "      <td>AM_Vakhsh_at_Komsomolabad</td>\n",
       "      <td>2005</td>\n",
       "      <td>1.0</td>\n",
       "      <td>6.00</td>\n",
       "      <td>1.00</td>\n",
       "      <td>13.00</td>\n",
       "      <td>1.0_6.0_1.0_13.0</td>\n",
       "    </tr>\n",
       "    <tr>\n",
       "      <th>17</th>\n",
       "      <td>AM_Vakhsh_at_Komsomolabad</td>\n",
       "      <td>2007</td>\n",
       "      <td>1.0</td>\n",
       "      <td>6.00</td>\n",
       "      <td>1.00</td>\n",
       "      <td>13.00</td>\n",
       "      <td>1.0_6.0_1.0_13.0</td>\n",
       "    </tr>\n",
       "  </tbody>\n",
       "</table>\n",
       "</div>"
      ],
      "text/plain": [
       "                   DRAINAGEID  YYYY  min_snow_ddf  max_snow_ddf  min_ice_ddf  \\\n",
       "0   AM_Vakhsh_at_Komsomolabad  2004           1.0          6.00         1.00   \n",
       "1   AM_Vakhsh_at_Komsomolabad  2005           1.0          6.00         1.00   \n",
       "2   AM_Vakhsh_at_Komsomolabad  2007           1.0          6.00         1.00   \n",
       "3   AM_Vakhsh_at_Komsomolabad  2004           1.0          6.00         1.00   \n",
       "4   AM_Vakhsh_at_Komsomolabad  2005           1.0          6.00         1.00   \n",
       "5   AM_Vakhsh_at_Komsomolabad  2007           1.0          6.00         1.00   \n",
       "6   AM_Vakhsh_at_Komsomolabad  2004           0.1          1.56         2.03   \n",
       "7   AM_Vakhsh_at_Komsomolabad  2005           0.1          1.56         2.03   \n",
       "8   AM_Vakhsh_at_Komsomolabad  2007           0.1          1.56         2.03   \n",
       "9   AM_Vakhsh_at_Komsomolabad  2004           3.0          5.44         2.36   \n",
       "10  AM_Vakhsh_at_Komsomolabad  2005           3.0          5.44         2.36   \n",
       "11  AM_Vakhsh_at_Komsomolabad  2007           3.0          5.44         2.36   \n",
       "12  AM_Vakhsh_at_Komsomolabad  2004           1.0          6.00         1.00   \n",
       "13  AM_Vakhsh_at_Komsomolabad  2005           1.0          6.00         1.00   \n",
       "14  AM_Vakhsh_at_Komsomolabad  2007           1.0          6.00         1.00   \n",
       "15  AM_Vakhsh_at_Komsomolabad  2004           1.0          6.00         1.00   \n",
       "16  AM_Vakhsh_at_Komsomolabad  2005           1.0          6.00         1.00   \n",
       "17  AM_Vakhsh_at_Komsomolabad  2007           1.0          6.00         1.00   \n",
       "\n",
       "    max_ice_ddf               model  \n",
       "0         11.00    1.0_6.0_1.0_11.0  \n",
       "1         11.00    1.0_6.0_1.0_11.0  \n",
       "2         11.00    1.0_6.0_1.0_11.0  \n",
       "3         13.00    1.0_6.0_1.0_13.0  \n",
       "4         13.00    1.0_6.0_1.0_13.0  \n",
       "5         13.00    1.0_6.0_1.0_13.0  \n",
       "6          3.33  0.1_1.56_2.03_3.33  \n",
       "7          3.33  0.1_1.56_2.03_3.33  \n",
       "8          3.33  0.1_1.56_2.03_3.33  \n",
       "9          3.33  3.0_5.44_2.36_3.33  \n",
       "10         3.33  3.0_5.44_2.36_3.33  \n",
       "11         3.33  3.0_5.44_2.36_3.33  \n",
       "12        11.00    1.0_6.0_1.0_11.0  \n",
       "13        11.00    1.0_6.0_1.0_11.0  \n",
       "14        11.00    1.0_6.0_1.0_11.0  \n",
       "15        13.00    1.0_6.0_1.0_13.0  \n",
       "16        13.00    1.0_6.0_1.0_13.0  \n",
       "17        13.00    1.0_6.0_1.0_13.0  "
      ]
     },
     "execution_count": 11,
     "metadata": {},
     "output_type": "execute_result"
    }
   ],
   "source": [
    "# Make a new column with DDFs concatenated into a model string\n",
    "subdf.loc[:,\"model\"] = (\n",
    "    subdf[\"min_snow_ddf\"].map(str) + \"_\" + \n",
    "    subdf[\"max_snow_ddf\"].map(str) + \"_\" +\n",
    "    subdf[\"min_ice_ddf\"].map(str) + \"_\" +\n",
    "    subdf[\"max_ice_ddf\"].map(str))\n",
    "\n",
    "subdf"
   ]
  },
  {
   "cell_type": "code",
   "execution_count": null,
   "metadata": {
    "collapsed": true
   },
   "outputs": [],
   "source": []
  },
  {
   "cell_type": "code",
   "execution_count": null,
   "metadata": {
    "collapsed": false
   },
   "outputs": [],
   "source": [
    "model = subdf[\"min_ice_ddf\"].copy().map(str) + \"_\" + subdf[\"max_ice_ddf\"].copy().map(str)\n",
    "model"
   ]
  },
  {
   "cell_type": "code",
   "execution_count": null,
   "metadata": {
    "collapsed": false
   },
   "outputs": [],
   "source": [
    "subdf"
   ]
  },
  {
   "cell_type": "code",
   "execution_count": null,
   "metadata": {
    "collapsed": false
   },
   "outputs": [],
   "source": [
    "subdf[\"new\"] = model"
   ]
  },
  {
   "cell_type": "code",
   "execution_count": 2,
   "metadata": {
    "collapsed": false
   },
   "outputs": [
    {
     "data": {
      "text/html": [
       "<div>\n",
       "<table border=\"1\" class=\"dataframe\">\n",
       "  <thead>\n",
       "    <tr style=\"text-align: right;\">\n",
       "      <th></th>\n",
       "      <th>A</th>\n",
       "      <th>B</th>\n",
       "      <th>C</th>\n",
       "    </tr>\n",
       "  </thead>\n",
       "  <tbody>\n",
       "    <tr>\n",
       "      <th>0</th>\n",
       "      <td>1.1</td>\n",
       "      <td>2.3</td>\n",
       "      <td>0.0</td>\n",
       "    </tr>\n",
       "    <tr>\n",
       "      <th>1</th>\n",
       "      <td>3.3</td>\n",
       "      <td>4.2</td>\n",
       "      <td>0.0</td>\n",
       "    </tr>\n",
       "  </tbody>\n",
       "</table>\n",
       "</div>"
      ],
      "text/plain": [
       "     A    B    C\n",
       "0  1.1  2.3  0.0\n",
       "1  3.3  4.2  0.0"
      ]
     },
     "execution_count": 2,
     "metadata": {},
     "output_type": "execute_result"
    }
   ],
   "source": [
    "df = pd.DataFrame([[1.1,2.3,0.],[3.3,4.2,0.]],columns=['A','B','C'])\n",
    "df\n"
   ]
  },
  {
   "cell_type": "code",
   "execution_count": 4,
   "metadata": {
    "collapsed": false
   },
   "outputs": [
    {
     "data": {
      "text/html": [
       "<div>\n",
       "<table border=\"1\" class=\"dataframe\">\n",
       "  <thead>\n",
       "    <tr style=\"text-align: right;\">\n",
       "      <th></th>\n",
       "      <th>A</th>\n",
       "      <th>B</th>\n",
       "    </tr>\n",
       "  </thead>\n",
       "  <tbody>\n",
       "    <tr>\n",
       "      <th>0</th>\n",
       "      <td>1.1</td>\n",
       "      <td>2.3</td>\n",
       "    </tr>\n",
       "    <tr>\n",
       "      <th>1</th>\n",
       "      <td>3.3</td>\n",
       "      <td>4.2</td>\n",
       "    </tr>\n",
       "  </tbody>\n",
       "</table>\n",
       "</div>"
      ],
      "text/plain": [
       "     A    B\n",
       "0  1.1  2.3\n",
       "1  3.3  4.2"
      ]
     },
     "execution_count": 4,
     "metadata": {},
     "output_type": "execute_result"
    }
   ],
   "source": [
    "subdf = df.loc[:,['A','B']]\n",
    "subdf"
   ]
  },
  {
   "cell_type": "code",
   "execution_count": 5,
   "metadata": {
    "collapsed": false
   },
   "outputs": [
    {
     "data": {
      "text/plain": [
       "0    1.1_2.3\n",
       "1    3.3_4.2\n",
       "dtype: object"
      ]
     },
     "execution_count": 5,
     "metadata": {},
     "output_type": "execute_result"
    }
   ],
   "source": [
    "model = df[\"A\"].map(str) + \"_\" + df[\"B\"].map(str)\n",
    "model"
   ]
  },
  {
   "cell_type": "code",
   "execution_count": 6,
   "metadata": {
    "collapsed": false
   },
   "outputs": [],
   "source": [
    "subdf[\"model\"] = model"
   ]
  },
  {
   "cell_type": "code",
   "execution_count": 8,
   "metadata": {
    "collapsed": false
   },
   "outputs": [
    {
     "data": {
      "text/html": [
       "<div>\n",
       "<table border=\"1\" class=\"dataframe\">\n",
       "  <thead>\n",
       "    <tr style=\"text-align: right;\">\n",
       "      <th></th>\n",
       "      <th>A</th>\n",
       "      <th>B</th>\n",
       "      <th>model</th>\n",
       "    </tr>\n",
       "  </thead>\n",
       "  <tbody>\n",
       "    <tr>\n",
       "      <th>0</th>\n",
       "      <td>1.1</td>\n",
       "      <td>2.3</td>\n",
       "      <td>1.1_2.3</td>\n",
       "    </tr>\n",
       "    <tr>\n",
       "      <th>1</th>\n",
       "      <td>3.3</td>\n",
       "      <td>4.2</td>\n",
       "      <td>3.3_4.2</td>\n",
       "    </tr>\n",
       "  </tbody>\n",
       "</table>\n",
       "</div>"
      ],
      "text/plain": [
       "     A    B    model\n",
       "0  1.1  2.3  1.1_2.3\n",
       "1  3.3  4.2  3.3_4.2"
      ]
     },
     "execution_count": 8,
     "metadata": {},
     "output_type": "execute_result"
    }
   ],
   "source": [
    "subdf"
   ]
  },
  {
   "cell_type": "code",
   "execution_count": null,
   "metadata": {
    "collapsed": true
   },
   "outputs": [],
   "source": []
  }
 ],
 "metadata": {
  "kernelspec": {
   "display_name": "Python 2",
   "language": "python",
   "name": "python2"
  },
  "language_info": {
   "codemirror_mode": {
    "name": "ipython",
    "version": 2
   },
   "file_extension": ".py",
   "mimetype": "text/x-python",
   "name": "python",
   "nbconvert_exporter": "python",
   "pygments_lexer": "ipython2",
   "version": "2.7.12"
  }
 },
 "nbformat": 4,
 "nbformat_minor": 0
}
