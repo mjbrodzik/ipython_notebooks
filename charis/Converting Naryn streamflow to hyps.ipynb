{
 "cells": [
  {
   "cell_type": "markdown",
   "metadata": {},
   "source": [
    "# Convert Naryn monthly flow rate data to monthly volumes.\n",
    "Assumes the flow rate is an average that can be multiplied by days in the month for \n",
    "total monthly volume."
   ]
  },
  {
   "cell_type": "code",
   "execution_count": null,
   "metadata": {},
   "outputs": [],
   "source": [
    "from __future__ import print_function\n",
    "import calendar\n",
    "from charistools.hypsometry import Hypsometry\n",
    "from charistools.timeSeries import TimeSeries\n",
    "import datetime as dt\n",
    "import pandas as pd\n",
    "import numpy as np\n",
    "import os\n",
    "import re\n",
    "from time import strptime"
   ]
  },
  {
   "cell_type": "code",
   "execution_count": null,
   "metadata": {},
   "outputs": [],
   "source": [
    "%cd /Users/brodzik/projects/CHARIS/streamflow/From_Alice_Naryn\n",
    "%ls"
   ]
  },
  {
   "cell_type": "code",
   "execution_count": null,
   "metadata": {
    "collapsed": true
   },
   "outputs": [],
   "source": [
    "file = \"Kyrygzstan_Naryn_flow_monthly_average_1933-2015.xlsx\""
   ]
  },
  {
   "cell_type": "code",
   "execution_count": null,
   "metadata": {
    "collapsed": true
   },
   "outputs": [],
   "source": [
    "# Use sheetname if pandas < 0.21.0\n",
    "# use sheet_name if later\n",
    "# Returns dict of sheets in file\n",
    "sheets = pd.read_excel(io=file, sheetname=None)"
   ]
  },
  {
   "cell_type": "code",
   "execution_count": null,
   "metadata": {
    "scrolled": false
   },
   "outputs": [],
   "source": [
    "for key in sheets:\n",
    "    print(\"key=%s\" % key)"
   ]
  },
  {
   "cell_type": "code",
   "execution_count": null,
   "metadata": {
    "collapsed": true
   },
   "outputs": [],
   "source": [
    "# Set the source name from the original file (controls which sheet is extracted)\n",
    "# and the CHARIS-format drainageID\n",
    "sheetName = \"Naryn town gauge (Naryn Darya)\"\n",
    "drainageID = \"SY_Naryn_at_NarynTown\""
   ]
  },
  {
   "cell_type": "code",
   "execution_count": null,
   "metadata": {
    "scrolled": true
   },
   "outputs": [],
   "source": [
    "df = sheets[sheetName]\n",
    "df"
   ]
  },
  {
   "cell_type": "code",
   "execution_count": null,
   "metadata": {},
   "outputs": [],
   "source": [
    "description = df.columns[0]\n",
    "description"
   ]
  },
  {
   "cell_type": "code",
   "execution_count": null,
   "metadata": {},
   "outputs": [],
   "source": [
    "geolocation = df.iloc[0][0]\n",
    "geolocation"
   ]
  },
  {
   "cell_type": "code",
   "execution_count": null,
   "metadata": {},
   "outputs": [],
   "source": [
    "units = df.iloc[1][0]\n",
    "units"
   ]
  },
  {
   "cell_type": "code",
   "execution_count": null,
   "metadata": {},
   "outputs": [],
   "source": [
    "description, geolocation, units"
   ]
  },
  {
   "cell_type": "code",
   "execution_count": null,
   "metadata": {
    "collapsed": true
   },
   "outputs": [],
   "source": [
    "def dmsds_to_decdeg(deg, min, sec, decsec):\n",
    "    return float(deg) + float(min)/60. + (float(sec) + float(decsec)/100.)/60./60."
   ]
  },
  {
   "cell_type": "code",
   "execution_count": null,
   "metadata": {},
   "outputs": [],
   "source": [
    "# Convert lat/lon positions to decimal degrees\n",
    "p = re.compile(r'latitude:(.*)longitude:(.*)\\(')\n",
    "m = p.search(geolocation)\n",
    "if m :\n",
    "    print(m.group(1))\n",
    "    print(m.group(2))\n",
    "    \n",
    "    (deg, min, sec, decsec) = m.group(1).split()\n",
    "    latitude = dmsds_to_decdeg(deg, min, sec, decsec)\n",
    "    (deg, min, sec, decsec) = m.group(2).split()\n",
    "    longitude = dmsds_to_decdeg(deg, min, sec, decsec)\n",
    "    print(\"lat/lon: %s/%s\" % (latitude, longitude))\n",
    "    \n",
    "else:\n",
    "    print(\"no match\")\n"
   ]
  },
  {
   "cell_type": "code",
   "execution_count": null,
   "metadata": {
    "collapsed": true
   },
   "outputs": [],
   "source": [
    "# Drop the first 2 data rows, they are just metadata we have already scraped\n",
    "df = df.drop([0,1])"
   ]
  },
  {
   "cell_type": "code",
   "execution_count": null,
   "metadata": {},
   "outputs": [],
   "source": [
    "#sheets['Naryn town gauge (Naryn Darya)']\n",
    "df.loc[2].values"
   ]
  },
  {
   "cell_type": "code",
   "execution_count": null,
   "metadata": {},
   "outputs": [],
   "source": [
    "# Move the contents of data row 2 into the column headers\n",
    "df.columns = df.loc[2].values\n",
    "df"
   ]
  },
  {
   "cell_type": "code",
   "execution_count": null,
   "metadata": {
    "scrolled": true
   },
   "outputs": [],
   "source": [
    "# Now drop the data row 2\n",
    "df = df.drop([2])\n",
    "df"
   ]
  },
  {
   "cell_type": "code",
   "execution_count": null,
   "metadata": {
    "scrolled": true
   },
   "outputs": [],
   "source": [
    "# Move the df index to the Year column\n",
    "df = df.set_index('Year')\n",
    "df"
   ]
  },
  {
   "cell_type": "code",
   "execution_count": null,
   "metadata": {},
   "outputs": [],
   "source": [
    "df['Jan'][1933]"
   ]
  },
  {
   "cell_type": "code",
   "execution_count": null,
   "metadata": {},
   "outputs": [],
   "source": [
    "# Write the result as a hypsometry for ti-melt modeling calibration steps, this needs to look like this:\n",
    "# # Station ID: 35749301\n",
    "# # Basin: Hunza at Dainyor Bridge\n",
    "# # Latitude: 35.92778\n",
    "# # Longitude: 74.37639\n",
    "# # Elevation: 1370 m\n",
    "# # Area: 13157 km**2\n",
    "# # Units: km**3\n",
    "# # COLUMNS: year month runoff\n",
    "# 1966  1      0.15\n",
    "# 1966  2      0.12\n",
    "# 1966  3      0.10\n",
    "outfile = \"%s.month_runoff.dat\" % drainageID\n",
    "outfile"
   ]
  },
  {
   "cell_type": "code",
   "execution_count": null,
   "metadata": {},
   "outputs": [],
   "source": [
    "%pwd\n"
   ]
  },
  {
   "cell_type": "code",
   "execution_count": null,
   "metadata": {
    "collapsed": true
   },
   "outputs": [],
   "source": [
    "comments=[\"Description: Derived runoff volume from monthly flow rates\",\n",
    "          \"Flow rate file: %s\" % os.path.basename(file),\n",
    "          \"Basin: %s\" % drainageID,\n",
    "          \"Latitude: %.6f\" % latitude,\n",
    "          \"Longitude: %.6f\" % longitude,\n",
    "          \"Elevation: unknown\",\n",
    "          \"Area: unknown\",\n",
    "          \"Units: km**3\",\n",
    "          \"COLUMNS: year month runoff\"]\n",
    "f = open(outfile, \"w\")\n",
    "for line in comments:\n",
    "    f.write(\"# %s\\n\" % line)"
   ]
  },
  {
   "cell_type": "markdown",
   "metadata": {},
   "source": [
    "# Convert the monthly average flow rates to volumes using:\n",
    "\n",
    "$Volume(km^3/month) = \\frac{m^3}{s} * \\frac{1 km}{1000 m} * \\frac{1 km}{1000 m}* \\frac{1 km}{1000 m} * \\frac{60 * 60 * 24 s}{1 day} * \\frac{N days}{month}$"
   ]
  },
  {
   "cell_type": "code",
   "execution_count": null,
   "metadata": {
    "scrolled": true
   },
   "outputs": [],
   "source": [
    "m_per_km = 1000.\n",
    "s_per_day = 60. * 60. * 24.\n",
    "conversion_factor = s_per_day / (m_per_km * m_per_km * m_per_km)\n",
    "for year in df.index:\n",
    "    for mmm in df.columns[1:13]:\n",
    "        month = strptime(mmm,'%b').tm_mon\n",
    "        days_in_month = calendar.monthrange(year, int(month))[1]\n",
    "        volume_km3 = df[mmm][year] * conversion_factor * days_in_month\n",
    "        print(\"%4d %d %d %f %f\" % (year, month, days_in_month, df[mmm][year], volume_km3))\n",
    "        print(\"%4d %2d %.6f\" % (year, month, volume_km3),\n",
    "              file=f)"
   ]
  },
  {
   "cell_type": "code",
   "execution_count": null,
   "metadata": {
    "collapsed": true
   },
   "outputs": [],
   "source": [
    "f.close()"
   ]
  },
  {
   "cell_type": "code",
   "execution_count": null,
   "metadata": {},
   "outputs": [],
   "source": [
    "\n",
    "%ls *month_runoff*\n"
   ]
  },
  {
   "cell_type": "code",
   "execution_count": null,
   "metadata": {
    "collapsed": true
   },
   "outputs": [],
   "source": [
    "%pwd\n",
    "ts = TimeSeries(\"../SY_Naryn_at_NarynTown.month_runoff.dat\")"
   ]
  },
  {
   "cell_type": "code",
   "execution_count": null,
   "metadata": {},
   "outputs": [],
   "source": [
    "ts.comments"
   ]
  },
  {
   "cell_type": "markdown",
   "metadata": {},
   "source": [
    "# Convert monthly runoff to annual runoff"
   ]
  },
  {
   "cell_type": "code",
   "execution_count": null,
   "metadata": {},
   "outputs": [],
   "source": [
    "def convert_monthly_to_annual_runoff(monthFile):\n",
    "    monthTS = TimeSeries(monthFile)\n",
    "    # Add new description to beginning\n",
    "    monthTS.comments.insert(0, \"# Monthly file: %s\" % monthFile)\n",
    "    monthTS.comments.insert(0, \"# Description: Annual runoff volume, created %s\" % str(dt.datetime.now()))\n",
    "    # And replace Column descriptor line:\n",
    "    monthTS.comments = monthTS.comments[:-1]\n",
    "    monthTS.comments.extend([\"# COLUMNS: year runoff\"])\n",
    "        \n",
    "    #print(monthTS.data)\n",
    "    monthTS.data[\"year\"] = monthTS.data.index.year\n",
    "    annual = monthTS.data.groupby([\"year\"])[\"runoff\"].sum()\n",
    "    \n",
    "    # Make the new outfile by replacing \"monthly\" in monthFile\n",
    "    p = re.compile(\"month\")\n",
    "    annualFile = p.sub(\"annual\", monthFile)\n",
    "    \n",
    "    f = open(annualFile, \"w\")\n",
    "    for line in monthTS.comments:\n",
    "        f.write(\"%s\\n\" % line)\n",
    "        \n",
    "    for key, value in annual.iteritems():\n",
    "        print(\"%4d %.6f\" % (key, value), file=f)\n",
    "        \n",
    "    f.close()"
   ]
  },
  {
   "cell_type": "code",
   "execution_count": null,
   "metadata": {},
   "outputs": [],
   "source": [
    "%cd /Users/brodzik/projects/CHARIS/streamflow/From_Alice_Naryn\n",
    "%ls"
   ]
  },
  {
   "cell_type": "code",
   "execution_count": null,
   "metadata": {
    "collapsed": true
   },
   "outputs": [],
   "source": [
    "monthFile = \"SY_Naryn_at_NarynTown.month_runoff.dat\""
   ]
  },
  {
   "cell_type": "code",
   "execution_count": null,
   "metadata": {
    "scrolled": false
   },
   "outputs": [],
   "source": [
    "convert_monthly_to_annual_runoff(monthFile)"
   ]
  },
  {
   "cell_type": "code",
   "execution_count": null,
   "metadata": {},
   "outputs": [],
   "source": [
    "%pwd\n",
    "\n"
   ]
  },
  {
   "cell_type": "code",
   "execution_count": null,
   "metadata": {},
   "outputs": [],
   "source": [
    "annualFile = \"SY_Naryn_at_NarynTown.annual_runoff.dat\"\n",
    "new = TimeSeries(annualFile)\n",
    "print(new.data)\n",
    "print(new.comments)\n",
    "print(new.units)"
   ]
  },
  {
   "cell_type": "code",
   "execution_count": null,
   "metadata": {},
   "outputs": [],
   "source": [
    "%cat $annualFile\n"
   ]
  },
  {
   "cell_type": "code",
   "execution_count": null,
   "metadata": {},
   "outputs": [],
   "source": [
    "line = \"# Units: km**3\"\n",
    "line.strip().lstrip('# Units: ')\n"
   ]
  },
  {
   "cell_type": "code",
   "execution_count": null,
   "metadata": {
    "collapsed": true
   },
   "outputs": [],
   "source": []
  }
 ],
 "metadata": {
  "kernelspec": {
   "display_name": "Python 2",
   "language": "python",
   "name": "python2"
  },
  "language_info": {
   "codemirror_mode": {
    "name": "ipython",
    "version": 2
   },
   "file_extension": ".py",
   "mimetype": "text/x-python",
   "name": "python",
   "nbconvert_exporter": "python",
   "pygments_lexer": "ipython2",
   "version": "2.7.13"
  }
 },
 "nbformat": 4,
 "nbformat_minor": 2
}
