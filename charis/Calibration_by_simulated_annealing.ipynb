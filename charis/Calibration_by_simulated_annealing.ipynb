{
 "cells": [
  {
   "cell_type": "markdown",
   "metadata": {},
   "source": [
    "<h2>Calibration by Simulated Annealing</h2>"
   ]
  },
  {
   "cell_type": "code",
   "execution_count": null,
   "metadata": {
    "collapsed": true
   },
   "outputs": [],
   "source": [
    "%pylab notebook\n",
    "from __future__ import print_function \n",
    "import charistools.find_best_model as fbm\n",
    "import charistools.meltModels as mM\n",
    "from charistools.modelEnv import ModelEnv\n",
    "import glob\n",
    "import matplotlib\n",
    "import numpy as np\n",
    "import matplotlib.pyplot as plt\n",
    "import math\n",
    "import os\n",
    "import pandas as pd\n",
    "import pdb\n",
    "import re\n",
    "import sys"
   ]
  },
  {
   "cell_type": "code",
   "execution_count": null,
   "metadata": {
    "collapsed": true
   },
   "outputs": [],
   "source": [
    "# Chooose starting DDFs\n",
    "ddfs_start = list(mM.RandomNewDDFs(initialize=True))\n",
    "print(\"Begin DDFs here:\")\n",
    "print(ddfs_start)"
   ]
  },
  {
   "cell_type": "code",
   "execution_count": null,
   "metadata": {
    "collapsed": true
   },
   "outputs": [],
   "source": [
    "%cd /work/charis/ti_model/calibrations_correct_cost\n",
    "%ls"
   ]
  },
  {
   "cell_type": "code",
   "execution_count": null,
   "metadata": {
    "collapsed": true
   },
   "outputs": [],
   "source": [
    "# Simulated annealing parameters\n",
    "# Number of cycles\n",
    "numCycles = 100\n",
    "# Number of trials per cycle\n",
    "numTrials = 50\n",
    "# Number of accepted solutions\n",
    "na = 0.0\n",
    "# Probability of accepting worse solution at the start\n",
    "p1 = 0.7\n",
    "# Probability of accepting worse solution at the end\n",
    "p50 = 0.001\n",
    "# Initial temperature\n",
    "t1 = -1.0 / math.log(p1)\n",
    "# Final temperature\n",
    "t50 = -1.0 / math.log(p50)\n",
    "# Fraction reduction every cycle\n",
    "frac = (t50/t1)**(1.0/(numCycles-1.0))\n",
    "# Initialize DDFs\n",
    "x = np.zeros((numCycles + 1, 4))\n",
    "x[0] = ddfs_start\n",
    "xi = np.zeros(4)\n",
    "xi = ddfs_start\n",
    "na = na + 1.0"
   ]
  },
  {
   "cell_type": "code",
   "execution_count": null,
   "metadata": {
    "collapsed": true
   },
   "outputs": [],
   "source": [
    "# Melt model parameters for a given basin\n",
    "#drainageid = \"IN_Hunza_at_DainyorBridge\"\n",
    "#years = [2001, 2002, 2003]\n",
    "#drainageid = \"AM_Vakhsh_at_Komsomolabad\"\n",
    "#years = [2004, 2005, 2007]\n",
    "#drainageid = \"SY_Naryn_at_NarynTown\"\n",
    "#years = [2003, 2005, 2007]\n",
    "#drainageid = \"GA_Karnali_at_Benighat\"\n",
    "#years = [2001, 2003, 2004]\n",
    "drainageid = \"GA_Narayani_at_Devghat\"\n",
    "years = [2001, 2004, 2005]\n",
    "#drainageid = \"GA_SaptaKosi_at_Chatara\"\n",
    "#years = [2003, 2004, 2005]\n",
    "\n",
    "nstrikes = 3\n",
    "ablation_method='grsize_scag'\n",
    "use_daily_threshold_file=True\n",
    "rainfall_col='diff_km3'\n",
    "runoff_col='runoff'\n",
    "config_file='/projects/brodzik/charis_ti_melt/calibration_modelEnv_config.ini'\n",
    "myEnv = ModelEnv(tileConfigFile=config_file)\n",
    "\n",
    "# How far away to look from the previous set of DDFs\n",
    "neighborhood_mm = 10\n",
    "\n",
    "# label will be used for plot titles and output filenames\n",
    "label = \"%1dstr DDFnbr=%dmm N%03d M%03d\" % ( nstrikes, neighborhood_mm, numCycles, numTrials )\n",
    "print(label)"
   ]
  },
  {
   "cell_type": "code",
   "execution_count": null,
   "metadata": {
    "collapsed": true
   },
   "outputs": [],
   "source": [
    "# Calculate the first calibration cost,\n",
    "# this is \"Current best results so far\"\n",
    "xc = np.zeros(4)\n",
    "xc[:] = x[0]                                                        \n",
    "result = mM.CalibrationStats(myEnv, drainageid, years, nstrikes,                                                                \n",
    "                             xi[0], xi[1], xi[2], xi[3], \n",
    "                             rainfall_col=rainfall_col, \n",
    "                             runoff_col=runoff_col,\n",
    "                             ablation_method=ablation_method, \n",
    "                             use_daily_threshold_file=use_daily_threshold_file)\n",
    "df, stats_df = mM.CalibrationCost(result)\n",
    "fc = stats_df.z.iloc[0]\n",
    "fs = np.zeros(numCycles+1)\n",
    "fs[0] = fc\n",
    "# Current temperature\n",
    "t = t1\n",
    "# DeltaE Average\n",
    "DeltaE_avg = 0.0\n",
    "print(\"Cost of initial DDFs: %.3f\" % fs[0])"
   ]
  },
  {
   "cell_type": "code",
   "execution_count": null,
   "metadata": {
    "collapsed": true
   },
   "outputs": [],
   "source": [
    "%cd /work/charis/ti_model/calibrations_correct_cost\n",
    "%ls"
   ]
  },
  {
   "cell_type": "code",
   "execution_count": null,
   "metadata": {
    "collapsed": true
   },
   "outputs": [],
   "source": [
    "logFile = \"%s.%s.stats.txt\" % ( drainageid, label.replace(\" \", \"_\") )\n",
    "logf = open(logFile, \"w\")\n",
    "print(logFile)"
   ]
  },
  {
   "cell_type": "code",
   "execution_count": null,
   "metadata": {
    "collapsed": true,
    "scrolled": false
   },
   "outputs": [],
   "source": [
    "mM.SaveCalibrationStats(myEnv, drainageid, nstrikes,result,ablation_method=ablation_method, \n",
    "                        use_daily_threshold_file=use_daily_threshold_file, file=sys.stderr,header=True) \n",
    "mM.SaveCalibrationStats(myEnv, drainageid, nstrikes,result,ablation_method=ablation_method, \n",
    "                        use_daily_threshold_file=use_daily_threshold_file, file=logf,header=True) "
   ]
  },
  {
   "cell_type": "code",
   "execution_count": null,
   "metadata": {
    "collapsed": true,
    "scrolled": true
   },
   "outputs": [],
   "source": [
    "for i in range(numCycles):\n",
    "    print(\"Cycle: %d with Temperature: %f\" % (i, t))\n",
    "    \n",
    "    for j in range(numTrials):\n",
    "        # Generate new trial DDFs, relative to xc \"current best results so far\"\n",
    "        ddfs = list(mM.RandomNewDDFs(min_snow_ddf=xc[0], max_snow_ddf=xc[1], \n",
    "                                     min_ice_ddf=xc[2], max_ice_ddf=xc[3],\n",
    "                                     neighborhood_mm=neighborhood_mm))\n",
    "        xi[0] = ddfs[0]\n",
    "        xi[1] = ddfs[1]\n",
    "        xi[2] = ddfs[2]\n",
    "        xi[3] = ddfs[3]\n",
    "        \n",
    "        # Calculate the cost at the new DDFs\n",
    "        result = mM.CalibrationStats(\n",
    "            myEnv, drainageid, years, nstrikes,                                                                \n",
    "            xi[0], xi[1], xi[2], xi[3], \n",
    "            rainfall_col=rainfall_col, \n",
    "            runoff_col=runoff_col,\n",
    "            ablation_method=ablation_method, \n",
    "            use_daily_threshold_file=use_daily_threshold_file)\n",
    "        df, stats_df = mM.CalibrationCost(result)\n",
    "        \n",
    "        # Save the calibration stats \n",
    "        mM.SaveCalibrationStats(myEnv, drainageid, nstrikes,result,ablation_method=ablation_method, \n",
    "                                use_daily_threshold_file=use_daily_threshold_file, file=logf)\n",
    "        \n",
    "        trial_cost = stats_df.z.iloc[0]\n",
    "        print(\"cycle=%d, trial=%d, ddfs=%.2f, %.2f, %.2f, %.2f, best_cost_so_far=%.3f, trial_cost=%.3f\" % (\n",
    "            i, j, xi[0], xi[1], xi[2], xi[3], fc, trial_cost), file=sys.stderr)\n",
    "        \n",
    "        DeltaE = abs(trial_cost - fc)\n",
    "        if (trial_cost > fc):\n",
    "            \n",
    "            # Initialize DeltaE_avg if a worse solution was found\n",
    "            # on the first iteration\n",
    "            if (i==0 and j==0): DeltaE_avg = DeltaE\n",
    "                \n",
    "            # objective function is worse\n",
    "            # generate prob of acceptance\n",
    "            p = math.exp(-DeltaE/(DeltaE_avg * t))\n",
    "            \n",
    "            # determine whether to accept worse point\n",
    "            if (random.random() < p):\n",
    "                # accept the worse solution\n",
    "                accept = True\n",
    "            else:\n",
    "                # don't accept the worse solution\n",
    "                accept = False\n",
    "        else:\n",
    "            \n",
    "            # objective function is lower, automatically accept\n",
    "            accept = True\n",
    "        \n",
    "        if (accept == True):\n",
    "            \n",
    "            # update the currently accepted solution\n",
    "            xc[0] = xi[0]\n",
    "            xc[1] = xi[1]\n",
    "            xc[2] = xi[2]\n",
    "            xc[3] = xi[3]\n",
    "            fc = trial_cost\n",
    "            \n",
    "            # increment number of accepted solutions\n",
    "            na = na + 1.0\n",
    "            # update DeltaE_avg\n",
    "            DeltaE_avg = (DeltaE_avg * (na - 1.0) + DeltaE) / na\n",
    "            \n",
    "            print(\"==> Updating best_cost_so_far\", file=sys.stderr)\n",
    "            \n",
    "    # Record the best x values at the end of every cycle\n",
    "    x[i+1][0] = xc[0]\n",
    "    x[i+1][1] = xc[1]\n",
    "    x[i+1][2] = xc[2]\n",
    "    x[i+1][3] = xc[3]\n",
    "    fs[i+1] = fc\n",
    "    \n",
    "    # Lower the temperature for the next cycle\n",
    "    t = frac * t\n",
    "\n",
    "# Close the logfile\n",
    "logf.close()\n",
    "\n",
    "# print solution\n",
    "print(\"Best solution: %s\" % xc, file=sys.stderr)\n",
    "print(\"Best cost    : %f\" % fc, file=sys.stderr)\n",
    "\n",
    "# Coerce answers to DataFrame\n",
    "caldf = pd.DataFrame(x, columns=['winter_snow_ddf', 'summer_snow_ddf', 'winter_ice_ddf', 'summer_ice_ddf'])\n",
    "caldf[\"min_cycle_z\"] = fs\n",
    "caldf"
   ]
  },
  {
   "cell_type": "code",
   "execution_count": null,
   "metadata": {
    "collapsed": true
   },
   "outputs": [],
   "source": [
    "datafile = \"%s.%s.SA_summary.dat\" % (drainageid, label.replace(\" \", \"_\"))\n",
    "caldf.to_pickle(datafile)\n",
    "print(\"caldf pickled to %s\" % datafile)"
   ]
  },
  {
   "cell_type": "code",
   "execution_count": null,
   "metadata": {
    "collapsed": true
   },
   "outputs": [],
   "source": [
    "%pwd"
   ]
  },
  {
   "cell_type": "markdown",
   "metadata": {},
   "source": [
    "# plot the progress made by SA"
   ]
  },
  {
   "cell_type": "code",
   "execution_count": null,
   "metadata": {
    "collapsed": true
   },
   "outputs": [],
   "source": [
    "# summary file is like this: AM_Vakhsh_at_Komsomolabad.3str_DDFnbr=10mm_N050_M050.SA_summary.dat\n",
    "# filename is parsed for drainageid and label\n",
    "# output will be written to : drainageid_label.SA_summary.png\n",
    "def plot_sa_summary(file):\n",
    "    caldf = pd.read_pickle(file)\n",
    "    \n",
    "    best_model = \"%.2f_%.2f_%.2f_%.2f\" % (\n",
    "        caldf.iloc[-1].winter_snow_ddf,\n",
    "        caldf.iloc[-1].summer_snow_ddf,\n",
    "        caldf.iloc[-1].winter_ice_ddf,\n",
    "        caldf.iloc[-1].summer_ice_ddf)\n",
    "    \n",
    "    # Parse the filename for drainageid and label\n",
    "    parts = file.split('.')\n",
    "    drainageid = parts[0]\n",
    "    label = parts[1]\n",
    "    \n",
    "    # Parse the filename for nCycles and nTrials\n",
    "    p = re.compile(r\"_N(\\d*)_M(\\d*)\")\n",
    "    m = p.search(file)\n",
    "    numCycles = int(m.group(1))\n",
    "    numTrials = int(m.group(2))\n",
    "    \n",
    "    fig, ax = plt.subplots(2, 1, figsize=(8,6))\n",
    "\n",
    "    fig.suptitle(\n",
    "                \"%s Best by SA=%s\\n(%s)\" % (\n",
    "                drainageid, \n",
    "                best_model,\n",
    "                label),\n",
    "            fontsize=12)\n",
    "\n",
    "    caldf[\"min_cycle_z\"].plot(ax=ax[0], style='k.-')\n",
    "    ax[0].legend([\"Cost\"])\n",
    "    ax[0].set_ylabel('Cost')\n",
    "\n",
    "    ddfs = caldf.drop(labels='min_cycle_z', axis=1)\n",
    "    ddfs.plot(ax=ax[1], style=['b.-', 'b--', 'r.-', 'r--'])\n",
    "    handles, labels = ax[1].get_legend_handles_labels()\n",
    "    ax[1].legend(handles[::-1], labels[::-1])\n",
    "    ax[1].set_xlabel('Calibration Cycle (%d trials/cycle)' % numTrials)\n",
    "    ax[1].set_ylabel('DDF ($mm$)')\n",
    "    \n",
    "    fig.tight_layout()\n",
    "    fig.subplots_adjust(top=0.86)\n",
    "\n",
    "    outfile = \"%s.%s.z%.3f_Best%s.SA_summary.png\" % (\n",
    "        drainageid, label.replace(\" \", \"_\"), caldf.iloc[-1].min_cycle_z, best_model)\n",
    "    plt.savefig(outfile)\n",
    "    print(\"Plot saved to %s\" % outfile)\n",
    "    outlink = \"%s.%s.SA_summary.png\" % (drainageid, label.replace(\" \", \"_\"))\n",
    "    if os.path.exists( outlink):\n",
    "        os.remove( outlink )\n",
    "    os.symlink( outfile, outlink )"
   ]
  },
  {
   "cell_type": "code",
   "execution_count": null,
   "metadata": {
    "collapsed": true
   },
   "outputs": [],
   "source": [
    "plot_sa_summary(datafile)"
   ]
  },
  {
   "cell_type": "markdown",
   "metadata": {},
   "source": [
    "# plot the complete solution space that was investigated"
   ]
  },
  {
   "cell_type": "code",
   "execution_count": null,
   "metadata": {
    "collapsed": true,
    "scrolled": false
   },
   "outputs": [],
   "source": [
    "#caldf = fbm.get_calibration_stats(logFile, verbose=1)\n",
    "#caldf[\"stats\"]\n",
    "%pwd"
   ]
  },
  {
   "cell_type": "code",
   "execution_count": null,
   "metadata": {
    "collapsed": true
   },
   "outputs": [],
   "source": [
    "#def plot_solution_space(caldf, drainageid, nstrikes, label):\n",
    "def plot_solution_space(file):\n",
    "    \n",
    "    # Parse the filename for drainageid and label\n",
    "    parts = file.split('.')\n",
    "    drainageid = parts[0]\n",
    "    label = parts[1]\n",
    "    \n",
    "    # Parse the label for nstrikes\n",
    "    parts = label.split('str')\n",
    "    nstrikes=int(parts[0])\n",
    "    \n",
    "    # Read the data \n",
    "    caldf = fbm.get_calibration_stats(file)\n",
    "    \n",
    "    # Reverse the order of rows, so smallest-ordered values are plotted last\n",
    "    # Best model is now last in data frame\n",
    "    df = caldf[\"stats\"][::-1]\n",
    "    best_i = -1\n",
    "\n",
    "    fig, ax = plt.subplots(2, 3, figsize=(9,6))\n",
    "\n",
    "    fig.suptitle(\n",
    "        \"%s Best=%s \\n(%d strikes, RMSE=%.3f $km^3$, Voldiff=%.3f%%, numModels=%d)\" % (\n",
    "            drainageid, df.index[-1], \n",
    "            nstrikes,\n",
    "            df[\"monthly_rmse_km3\"].iloc[-1], \n",
    "            df[\"annual_voldiff_pcent\"].iloc[-1],\n",
    "            len(df.index)),\n",
    "        fontsize=12)\n",
    "\n",
    "    surfaces = [\"ice\", \"snow\"]\n",
    "    markers =  [\"^\", \"o\"]\n",
    "\n",
    "    for i, surface in enumerate(surfaces):\n",
    "    \n",
    "        row = i\n",
    "        min_ddf = \"min_%s_ddf\" % surface\n",
    "        max_ddf = \"max_%s_ddf\" % surface\n",
    "        min_ddf_label = \"winter_%s_ddf\" % surface\n",
    "        max_ddf_label = \"summer_%s_ddf\" % surface\n",
    "        \n",
    "        # Upper Left: RMSE as function of min/max snow ddf \n",
    "        col = 0\n",
    "        rmse_plot = ax[row, col].scatter(df[min_ddf],\n",
    "                                 df[max_ddf],\n",
    "                                 c=df[\"monthly_rmse_km3\"],\n",
    "                                 cmap=\"Greens\",\n",
    "                                 edgecolor=\"\",\n",
    "                                 marker=markers[i])\n",
    "        ax[row, col].plot([df[min_ddf].iloc[best_i]],\n",
    "                          [df[max_ddf].iloc[best_i]],\n",
    "                          marker=\"x\",\n",
    "                          color=\"red\")\n",
    "        ax[row, col].set_title('Monthly RMSE ($km^3$)')\n",
    "        ax[row, col].set_xlabel(min_ddf_label)\n",
    "        ax[row, col].set_ylabel(max_ddf_label)\n",
    "        ax[row, col].axis([0., 60., 0., 60.])\n",
    "        ax[row, col].set_aspect('equal', 'box')\n",
    "        fig.colorbar(rmse_plot, ax=ax[row,col])\n",
    "\n",
    "        # Middle: Annual volume difference\n",
    "        col = 1\n",
    "        vmax = np.max(df[\"abs_voldiff_pcent\"])\n",
    "        vmax = 10.0\n",
    "        vmin = -1.0 * vmax\n",
    "        voldiff_plot = ax[row, col].scatter(df[min_ddf],\n",
    "                                            df[max_ddf],\n",
    "                                            c=df[\"annual_voldiff_pcent\"],\n",
    "                                            cmap=\"BrBG_r\",\n",
    "                                            vmin=vmin,\n",
    "                                            vmax=vmax,\n",
    "                                            edgecolor=\"\",\n",
    "                                            marker=markers[i])\n",
    "        ax[row, col].plot([df[min_ddf].iloc[best_i]],\n",
    "                          [df[max_ddf].iloc[best_i]],\n",
    "                          marker=\"x\",\n",
    "                          color=\"red\")\n",
    "        \n",
    "        ax[row, col].set_title('Annual vol diff (%)')\n",
    "        ax[row, col].set_xlabel(min_ddf_label)\n",
    "        ax[row, col].set_ylabel(max_ddf_label)\n",
    "        ax[row, col].axis([0., 60., 0., 60.])\n",
    "        ax[row, col].set_aspect('equal', 'box')\n",
    "        fig.colorbar(voldiff_plot, ax=ax[row,col])\n",
    "        \n",
    "        # Right: Combined Z score\n",
    "        col = 2\n",
    "        vmax = np.max(df[\"z\"])\n",
    "        vmax = 200.0;\n",
    "        vmin = 0.0\n",
    "        z_plot = ax[row, col].scatter(df[min_ddf],\n",
    "                                      df[max_ddf],\n",
    "                                      c=df[\"z\"],\n",
    "                                      cmap=\"Greys\",\n",
    "                                      vmin=vmin,\n",
    "                                      vmax=vmax,\n",
    "                                      edgecolor=\"\",\n",
    "                                      marker=markers[i])\n",
    "        ax[row, col].plot([df[min_ddf].iloc[best_i]],\n",
    "                          [df[max_ddf].iloc[best_i]],\n",
    "                          marker=\"x\",\n",
    "                          color=\"red\")\n",
    "        ax[row, col].set_title('Z')\n",
    "        ax[row, col].set_xlabel(min_ddf_label)\n",
    "        ax[row, col].set_ylabel(max_ddf_label)\n",
    "        ax[row, col].axis([0., 60., 0., 60.])\n",
    "        ax[row, col].set_aspect('equal', 'box')\n",
    "        fig.colorbar(z_plot, ax=ax[row,col])\n",
    "\n",
    "\n",
    "    fig.tight_layout()\n",
    "    fig.subplots_adjust(top=0.86)\n",
    "\n",
    "    outfile = \"%s.%s.z%.3f_Best%s.stats.png\" % (\n",
    "        drainageid, label.replace(\" \", \"_\"), df[\"z\"].iloc[best_i], df.index[-1])\n",
    "    plt.savefig(outfile)\n",
    "    print(\"Image saved to %s\" % outfile)\n",
    "    outlink = \"%s.%s.stats.png\" % (drainageid, label.replace(\" \", \"_\"))\n",
    "    if os.path.exists( outlink):\n",
    "        os.remove( outlink )\n",
    "    os.symlink( outfile, outlink )"
   ]
  },
  {
   "cell_type": "code",
   "execution_count": null,
   "metadata": {
    "collapsed": true,
    "scrolled": false
   },
   "outputs": [],
   "source": [
    "plot_solution_space(logFile)"
   ]
  },
  {
   "cell_type": "code",
   "execution_count": null,
   "metadata": {
    "collapsed": true
   },
   "outputs": [],
   "source": [
    "%pwd"
   ]
  },
  {
   "cell_type": "markdown",
   "metadata": {},
   "source": [
    "# Redo the whole batch of SA_summary plots"
   ]
  },
  {
   "cell_type": "code",
   "execution_count": null,
   "metadata": {
    "collapsed": true
   },
   "outputs": [],
   "source": [
    "list = glob.glob(\"GA_Sap*2str*SA_summary.dat\")\n",
    "print(list)\n",
    "for file in list:\n",
    "    plot_sa_summary(file)"
   ]
  },
  {
   "cell_type": "markdown",
   "metadata": {},
   "source": [
    "# Redo the whole batch of solution space plots"
   ]
  },
  {
   "cell_type": "code",
   "execution_count": null,
   "metadata": {
    "collapsed": true
   },
   "outputs": [],
   "source": [
    "%cd /work/charis/ti_model/calibrations_correct_cost\n",
    "%ls"
   ]
  },
  {
   "cell_type": "code",
   "execution_count": null,
   "metadata": {
    "collapsed": true
   },
   "outputs": [],
   "source": [
    "list = glob.glob(\"GA_Sap*2str*stats.txt\")\n",
    "list"
   ]
  },
  {
   "cell_type": "code",
   "execution_count": null,
   "metadata": {
    "collapsed": true,
    "scrolled": false
   },
   "outputs": [],
   "source": [
    "for file in list:\n",
    "    plot_solution_space(file)"
   ]
  },
  {
   "cell_type": "code",
   "execution_count": null,
   "metadata": {
    "collapsed": true
   },
   "outputs": [],
   "source": []
  }
 ],
 "metadata": {
  "kernelspec": {
   "display_name": "Python 2",
   "language": "python",
   "name": "python2"
  },
  "language_info": {
   "codemirror_mode": {
    "name": "ipython",
    "version": 2
   },
   "file_extension": ".py",
   "mimetype": "text/x-python",
   "name": "python",
   "nbconvert_exporter": "python",
   "pygments_lexer": "ipython2",
   "version": "2.7.13"
  }
 },
 "nbformat": 4,
 "nbformat_minor": 1
}
