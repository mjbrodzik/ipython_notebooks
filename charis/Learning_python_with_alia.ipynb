{
 "cells": [
  {
   "cell_type": "code",
   "execution_count": 1,
   "metadata": {},
   "outputs": [
    {
     "data": {
      "text/plain": [
       "4"
      ]
     },
     "execution_count": 1,
     "metadata": {},
     "output_type": "execute_result"
    }
   ],
   "source": [
    "2 + 2"
   ]
  },
  {
   "cell_type": "code",
   "execution_count": 2,
   "metadata": {},
   "outputs": [],
   "source": [
    "x = 2\n",
    "y = x + 4\n",
    "z = 3**2"
   ]
  },
  {
   "cell_type": "code",
   "execution_count": 3,
   "metadata": {},
   "outputs": [
    {
     "data": {
      "text/plain": [
       "2"
      ]
     },
     "execution_count": 3,
     "metadata": {},
     "output_type": "execute_result"
    }
   ],
   "source": [
    "x"
   ]
  },
  {
   "cell_type": "code",
   "execution_count": 4,
   "metadata": {},
   "outputs": [
    {
     "data": {
      "text/plain": [
       "6"
      ]
     },
     "execution_count": 4,
     "metadata": {},
     "output_type": "execute_result"
    }
   ],
   "source": [
    "y"
   ]
  },
  {
   "cell_type": "code",
   "execution_count": 5,
   "metadata": {},
   "outputs": [
    {
     "data": {
      "text/plain": [
       "9"
      ]
     },
     "execution_count": 5,
     "metadata": {},
     "output_type": "execute_result"
    }
   ],
   "source": [
    "z"
   ]
  },
  {
   "cell_type": "code",
   "execution_count": 6,
   "metadata": {},
   "outputs": [
    {
     "data": {
      "text/plain": [
       "(2, 6, 9)"
      ]
     },
     "execution_count": 6,
     "metadata": {},
     "output_type": "execute_result"
    }
   ],
   "source": [
    "x, y, z"
   ]
  },
  {
   "cell_type": "code",
   "execution_count": 7,
   "metadata": {},
   "outputs": [],
   "source": [
    "import numpy as np"
   ]
  },
  {
   "cell_type": "code",
   "execution_count": 8,
   "metadata": {},
   "outputs": [
    {
     "name": "stderr",
     "output_type": "stream",
     "text": [
      "IOPub data rate exceeded.\n",
      "The notebook server will temporarily stop sending output\n",
      "to the client in order to avoid crashing it.\n",
      "To change this limit, set the config variable\n",
      "`--NotebookApp.iopub_data_rate_limit`.\n",
      "\n",
      "Current values:\n",
      "NotebookApp.iopub_data_rate_limit=1000000.0 (bytes/sec)\n",
      "NotebookApp.rate_limit_window=3.0 (secs)\n",
      "\n"
     ]
    }
   ],
   "source": [
    "help(np)"
   ]
  },
  {
   "cell_type": "code",
   "execution_count": 9,
   "metadata": {},
   "outputs": [
    {
     "name": "stdout",
     "output_type": "stream",
     "text": [
      "Help on built-in function zeros in module numpy.core.multiarray:\n",
      "\n",
      "zeros(...)\n",
      "    zeros(shape, dtype=float, order='C')\n",
      "    \n",
      "    Return a new array of given shape and type, filled with zeros.\n",
      "    \n",
      "    Parameters\n",
      "    ----------\n",
      "    shape : int or sequence of ints\n",
      "        Shape of the new array, e.g., ``(2, 3)`` or ``2``.\n",
      "    dtype : data-type, optional\n",
      "        The desired data-type for the array, e.g., `numpy.int8`.  Default is\n",
      "        `numpy.float64`.\n",
      "    order : {'C', 'F'}, optional\n",
      "        Whether to store multidimensional data in C- or Fortran-contiguous\n",
      "        (row- or column-wise) order in memory.\n",
      "    \n",
      "    Returns\n",
      "    -------\n",
      "    out : ndarray\n",
      "        Array of zeros with the given shape, dtype, and order.\n",
      "    \n",
      "    See Also\n",
      "    --------\n",
      "    zeros_like : Return an array of zeros with shape and type of input.\n",
      "    ones_like : Return an array of ones with shape and type of input.\n",
      "    empty_like : Return an empty array with shape and type of input.\n",
      "    ones : Return a new array setting values to one.\n",
      "    empty : Return a new uninitialized array.\n",
      "    \n",
      "    Examples\n",
      "    --------\n",
      "    >>> np.zeros(5)\n",
      "    array([ 0.,  0.,  0.,  0.,  0.])\n",
      "    \n",
      "    >>> np.zeros((5,), dtype=np.int)\n",
      "    array([0, 0, 0, 0, 0])\n",
      "    \n",
      "    >>> np.zeros((2, 1))\n",
      "    array([[ 0.],\n",
      "           [ 0.]])\n",
      "    \n",
      "    >>> s = (2,2)\n",
      "    >>> np.zeros(s)\n",
      "    array([[ 0.,  0.],\n",
      "           [ 0.,  0.]])\n",
      "    \n",
      "    >>> np.zeros((2,), dtype=[('x', 'i4'), ('y', 'i4')]) # custom dtype\n",
      "    array([(0, 0), (0, 0)],\n",
      "          dtype=[('x', '<i4'), ('y', '<i4')])\n",
      "\n"
     ]
    }
   ],
   "source": [
    "help(np.zeros)"
   ]
  },
  {
   "cell_type": "code",
   "execution_count": 11,
   "metadata": {},
   "outputs": [],
   "source": [
    "arr = np.zeros(5)"
   ]
  },
  {
   "cell_type": "raw",
   "metadata": {},
   "source": []
  },
  {
   "cell_type": "code",
   "execution_count": 12,
   "metadata": {},
   "outputs": [
    {
     "data": {
      "text/plain": [
       "array([ 0.,  0.,  0.,  0.,  0.])"
      ]
     },
     "execution_count": 12,
     "metadata": {},
     "output_type": "execute_result"
    }
   ],
   "source": [
    "arr"
   ]
  },
  {
   "cell_type": "code",
   "execution_count": 13,
   "metadata": {},
   "outputs": [],
   "source": [
    "arr = np.zeros((3,5))"
   ]
  },
  {
   "cell_type": "code",
   "execution_count": 14,
   "metadata": {},
   "outputs": [
    {
     "data": {
      "text/plain": [
       "array([[ 0.,  0.,  0.,  0.,  0.],\n",
       "       [ 0.,  0.,  0.,  0.,  0.],\n",
       "       [ 0.,  0.,  0.,  0.,  0.]])"
      ]
     },
     "execution_count": 14,
     "metadata": {},
     "output_type": "execute_result"
    }
   ],
   "source": [
    "arr"
   ]
  },
  {
   "cell_type": "code",
   "execution_count": 15,
   "metadata": {},
   "outputs": [],
   "source": [
    "import charistools"
   ]
  },
  {
   "cell_type": "code",
   "execution_count": 16,
   "metadata": {},
   "outputs": [
    {
     "name": "stdout",
     "output_type": "stream",
     "text": [
      "Help on package charistools:\n",
      "\n",
      "NAME\n",
      "    charistools\n",
      "\n",
      "FILE\n",
      "    /Users/brodzik/miniconda3/envs/charis/lib/python2.7/site-packages/charistools/__init__.py\n",
      "\n",
      "PACKAGE CONTENTS\n",
      "    convertors\n",
      "    find_best_model\n",
      "    hypsometry\n",
      "    meltModels\n",
      "    merge_calibration_files\n",
      "    modelEnv\n",
      "    modis_masks_from_shapefile\n",
      "    modis_tile_bounds\n",
      "    prep_calibration_script\n",
      "    readers\n",
      "    run_calibration_stats\n",
      "    run_forcings\n",
      "    test (package)\n",
      "    threshold\n",
      "    timeSeries\n",
      "\n",
      "\n"
     ]
    }
   ],
   "source": [
    "help(charistools)"
   ]
  },
  {
   "cell_type": "code",
   "execution_count": 17,
   "metadata": {},
   "outputs": [],
   "source": [
    "from charistools import hypsometry"
   ]
  },
  {
   "cell_type": "code",
   "execution_count": 18,
   "metadata": {
    "scrolled": true
   },
   "outputs": [
    {
     "name": "stdout",
     "output_type": "stream",
     "text": [
      "Help on module charistools.hypsometry in charistools:\n",
      "\n",
      "NAME\n",
      "    charistools.hypsometry - Library for handling hypsometry-format data for CHARIS melt modelling.\n",
      "\n",
      "FILE\n",
      "    /Users/brodzik/miniconda3/envs/charis/lib/python2.7/site-packages/charistools/hypsometry.py\n",
      "\n",
      "DESCRIPTION\n",
      "    Most CHARIS melt modelling is performed on\n",
      "    hypsometrically-formatted data.  This module provides a mechanism\n",
      "    for reading, writing, displaying and storing this data.\n",
      "    \n",
      "    We define a CHARIS \"hypsometry\" object as having 2 parts, a list\n",
      "    of comments that can be used to store data provenance and history\n",
      "    of the actual data, and a python pandas \"DataFrame\" to store and\n",
      "    manipulate the actual data.\n",
      "\n",
      "CLASSES\n",
      "    Hypsometry\n",
      "    \n",
      "    class Hypsometry\n",
      "     |  Hypsometry class manages CHARIS hypsometry data and metadata.\n",
      "     |  \n",
      "     |  Public attributes:\n",
      "     |  \n",
      "     |  - comments: List of strings with metadata about the data, can\n",
      "     |    include provenance, units, history or any other relevant\n",
      "     |    description of the data contents.\n",
      "     |  \n",
      "     |  - data: Pandas DataFrame with hypsometry data, with columns\n",
      "     |    at regular elevation bands and rows representing dates.\n",
      "     |  \n",
      "     |  Methods defined here:\n",
      "     |  \n",
      "     |  __init__(self, filename=None, comments=None, data=None, verbose=False)\n",
      "     |      Initialize a Hypsometry data object.\n",
      "     |      \n",
      "     |      Initializes a Hypsometry data object with input comments and data, or\n",
      "     |      reads the contents of the input filename.\n",
      "     |      \n",
      "     |      Hypsometry data read from various other (IDL and python)\n",
      "     |      systems is currently read as-is, with various versions of\n",
      "     |      strings/floats for column names.  This creates problems\n",
      "     |      when combining Hypsometry DataFrames with column names\n",
      "     |      that should be considered the same, but that pandas\n",
      "     |      treats as distinct.  We should consider addressing these\n",
      "     |      inconsistencies as best we can in this initializer\n",
      "     |      routine.\n",
      "     |      \n",
      "     |      Args:\n",
      "     |        filename : (optional) filename to open and read from\n",
      "     |      \n",
      "     |        comments : list of string metadata describing the data;\n",
      "     |          (ignored if filename is input)\n",
      "     |      \n",
      "     |        data : pandas DataFrame, with elevations in columns and\n",
      "     |          dates in rows; DataFrame index can be ['NoDate'] for\n",
      "     |          undated data, or pandas.tseries.index.DatetimeIndex\n",
      "     |          if contents are dated;\n",
      "     |          (ignored if filename is input)\n",
      "     |      \n",
      "     |        verbose: boolean to turn on verbose output to stderr.\n",
      "     |      \n",
      "     |      Returns:\n",
      "     |        Initialized CHARIS Hypsometry object.\n",
      "     |  \n",
      "     |  barplot(self, ax, index, title=None, color='b', xlabel='Value', ylabel='Elevation ($m$)', verbose=False)\n",
      "     |      Displays the hypsometry data as a horizontal barplot in the axes.\n",
      "     |      \n",
      "     |      Args:\n",
      "     |        ax: Axes object to add the data image to\n",
      "     |      \n",
      "     |        title: string, image title\n",
      "     |      \n",
      "     |        color: bar color\n",
      "     |      \n",
      "     |        xlabel, ylabel: strings, axes labels\n",
      "     |      \n",
      "     |        verbose: boolean to turn on verbose output to stderr.\n",
      "     |      \n",
      "     |      Returns:\n",
      "     |        AxesImage\n",
      "     |  \n",
      "     |  compare(self, other, ignore_comments=False, collapse_zero_columns=False, verbose=False)\n",
      "     |      Compares data contents to that of another hypsometry object, for\n",
      "     |      equality.\n",
      "     |      \n",
      "     |      Args:\n",
      "     |        other: another hypsometry object to compare to\n",
      "     |      \n",
      "     |        ignore_comments: boolean, if True, only compare data,\n",
      "     |          and ignore comments\n",
      "     |      \n",
      "     |        collapse_zero_columns: boolean, if True, collapse any columns in\n",
      "     |          either DataFrame with all zeroes.\n",
      "     |      \n",
      "     |        verbose: boolean to turn on verbose output to stderr.\n",
      "     |      \n",
      "     |      Returns:\n",
      "     |        True if object data frames are identical, according to\n",
      "     |          requested switches.\n",
      "     |  \n",
      "     |  data_by_doy(self, verbose=False)\n",
      "     |      Sum hypsometry data by day-of-year.\n",
      "     |      \n",
      "     |      Args:\n",
      "     |        verbose: boolean to turn on verbose output to stderr.\n",
      "     |      \n",
      "     |      Returns:\n",
      "     |        Pandas Series object, with the hypsometry DataFrame data summed\n",
      "     |        by row (day-of-year)\n",
      "     |  \n",
      "     |  get_contour(self, file=<ipykernel.iostream.OutStream object>)\n",
      "     |      Returns the contour spacing for this hypsometry.\n",
      "     |      \n",
      "     |      Args:\n",
      "     |        file: output file stream\n",
      "     |  \n",
      "     |  imshow(self, ax, title=None, cmap='Greys_r', xlabel='Date', dateFormat='%b', ylabel='Elevation ($m$)', vmin=None, vmax=None, verbose=False)\n",
      "     |      Displays the hypsometry data as a color image in the axes.\n",
      "     |      \n",
      "     |      Args:\n",
      "     |        ax: Axes object to add the data image to\n",
      "     |      \n",
      "     |        title: string, image title\n",
      "     |      \n",
      "     |        cmap: Colormap\n",
      "     |      \n",
      "     |        xlabel, ylabel: strings, axes labels\n",
      "     |      \n",
      "     |        dateFormat: string, date format string for X axis labels\n",
      "     |      \n",
      "     |        vmin, vmax: min/max value to display\n",
      "     |          Default values are min/max of data\n",
      "     |      \n",
      "     |        verbose: boolean to turn on verbose output to stderr.\n",
      "     |      \n",
      "     |      Returns:\n",
      "     |        AxesImage\n",
      "     |  \n",
      "     |  print(self, file=<ipykernel.iostream.OutStream object>)\n",
      "     |      Prints hypsometry comments and first 5 rows of dataFrame.\n",
      "     |      \n",
      "     |      This print function relies on \"from __future__ import print_function\"\n",
      "     |      If the caller has not done this import, nothing will be printed.\n",
      "     |      I would like to figure out how to make it behave properly no matter\n",
      "     |      what.\n",
      "     |      \n",
      "     |      Args:\n",
      "     |        file: output file stream\n",
      "     |  \n",
      "     |  read(self, filename, verbose=False)\n",
      "     |      Reads ASCII hypsometry file into the current object.\n",
      "     |      \n",
      "     |      Comments read from the filename will be appended to object's comments.\n",
      "     |      Data read from the filename will overwrite object's data.\n",
      "     |      \n",
      "     |      Raises any file IO errors encountered during the read procedure.\n",
      "     |      \n",
      "     |      Assumes the filename is ASCII and follows the convention:\n",
      "     |      \n",
      "     |      1) 0 or more comment lines, beginning with '#'\n",
      "     |      2) 1 line with the number of elevation bands in this file, e.g. NN\n",
      "     |      3) 1 line with whitespace-delimited list of lower bounds of each\n",
      "     |         elevation band, elevations can be formated as '100.0' or '100.' or\n",
      "     |         '100'; internally these elevations will be treated as integers\n",
      "     |      4) Data records by date, of the form:\n",
      "     |         yyyy mm dd ddd [whitespace delimited list of data of NN data values]\n",
      "     |      \n",
      "     |      Args:\n",
      "     |        filename: string name of hypsometry filename to read\n",
      "     |      \n",
      "     |        verbose: boolean to turn on verbose output to stderr.\n",
      "     |  \n",
      "     |  unfurl(self, contour_m=100, verbose=False)\n",
      "     |      Unfurls a minimal hypsometry by duplicating the given values\n",
      "     |      across dates forward and elevation bands upward, until\n",
      "     |      the given value changes.  Unfurled dates are produced\n",
      "     |      daily to day 366 and unfurled elevations reach to\n",
      "     |      9000 meters.\n",
      "     |      \n",
      "     |      Args:\n",
      "     |        contour_m: integer, contour size, in meters, to use for\n",
      "     |          unfurled Hypsometry\n",
      "     |      \n",
      "     |        verbose: boolean to turn on verbose output to stderr.\n",
      "     |      \n",
      "     |      Returns:\n",
      "     |        True when successful.\n",
      "     |  \n",
      "     |  write(self, filename, decimal_places=6, verbose=False)\n",
      "     |      Writes object contents to ASCII hypsometry file.\n",
      "     |      \n",
      "     |      See read method for CHARIS hypsometry file format convention.\n",
      "     |      \n",
      "     |      If object comments do not begin with '#', then they will\n",
      "     |      be prepended by this character in the output stream.\n",
      "     |      \n",
      "     |      If filename directory parent (one level only) doesn't exist,\n",
      "     |      it will be created.\n",
      "     |      \n",
      "     |      Args:\n",
      "     |        filename: string name of hypsometry filename to write\n",
      "     |      \n",
      "     |        decimal_places: number of decimal places for formatted data values\n",
      "     |          in output file\n",
      "     |      \n",
      "     |        verbose: boolean to turn on verbose output to stderr.\n",
      "     |      \n",
      "     |      Returns:\n",
      "     |        True if successful\n",
      "     |  \n",
      "     |  ----------------------------------------------------------------------\n",
      "     |  Data and other attributes defined here:\n",
      "     |  \n",
      "     |  comments = []\n",
      "     |  \n",
      "     |  data = Empty DataFrame\n",
      "     |  Columns: []\n",
      "     |  Index: []\n",
      "\n",
      "DATA\n",
      "    print_function = _Feature((2, 6, 0, 'alpha', 2), (3, 0, 0, 'alpha', 0)...\n",
      "\n",
      "\n"
     ]
    }
   ],
   "source": [
    "help(hypsometry)"
   ]
  },
  {
   "cell_type": "code",
   "execution_count": null,
   "metadata": {},
   "outputs": [],
   "source": [
    "%cd ~/projects/CHARIS/derived_hypsometries"
   ]
  }
 ],
 "metadata": {
  "kernelspec": {
   "display_name": "Python 2",
   "language": "python",
   "name": "python2"
  },
  "language_info": {
   "codemirror_mode": {
    "name": "ipython",
    "version": 2
   },
   "file_extension": ".py",
   "mimetype": "text/x-python",
   "name": "python",
   "nbconvert_exporter": "python",
   "pygments_lexer": "ipython2",
   "version": "2.7.15"
  }
 },
 "nbformat": 4,
 "nbformat_minor": 2
}
