{
 "cells": [
  {
   "cell_type": "code",
   "execution_count": null,
   "metadata": {},
   "outputs": [],
   "source": [
    "%pylab notebook\n",
    "import glob\n",
    "import matplotlib.pyplot as plt\n",
    "import numpy as np\n",
    "from charistools.readers import ModisTileCube\n",
    "from charistools.readers import read_tile\n",
    "pylab.rcParams['figure.figsize'] = (10.0, 8.0)"
   ]
  },
  {
   "cell_type": "code",
   "execution_count": null,
   "metadata": {},
   "outputs": [],
   "source": [
    "%cd /scratch/summit/brodzik/ti_model/snow_cover/MODSCAG_GF/v09/h23v05\n",
    "%ls"
   ]
  },
  {
   "cell_type": "code",
   "execution_count": null,
   "metadata": {},
   "outputs": [],
   "source": [
    "topDir = '/scratch/summit/brodzik/ti_model/snow_cover/MODSCAG_GF/v09/'\n",
    "tileID = 'h23v05'\n",
    "h23v05_cube = ModisTileCube(\"%s/%s/MODSCAG_GF_Snow.v0.9.%s_2001.h5\" % (topDir, tileID, tileID), \n",
    "                            varname='fsca')\n",
    "tileID = 'h23v04'\n",
    "h23v04_cube = ModisTileCube(\"%s/%s/MODSCAG_GF_Snow.v0.9.%s_2001.h5\" % (topDir, tileID, tileID), \n",
    "                            varname='fsca')"
   ]
  },
  {
   "cell_type": "code",
   "execution_count": null,
   "metadata": {},
   "outputs": [],
   "source": [
    "doyrange = np.arange(3)+41\n",
    "doyrange"
   ]
  },
  {
   "cell_type": "code",
   "execution_count": null,
   "metadata": {
    "scrolled": false
   },
   "outputs": [],
   "source": [
    "fig, ax = plt.subplots(2,3)\n",
    "for i, doy in enumerate(doyrange):\n",
    "    upper_data = h23v04_cube.read(doy=doy)\n",
    "    lower_data = h23v05_cube.read(doy=doy)\n",
    "    ax[0,i].imshow(upper_data, cmap=plt.cm.gray, vmin=0.0, vmax=1.0, interpolation='None')\n",
    "    ax[0,i].set_title(\"h23v04 day %d\" % doy)\n",
    "    ax[0,i].axis('off')\n",
    "    ax[1,i].imshow(lower_data, cmap=plt.cm.gray, vmin=0.0, vmax=1.0, interpolation='None')\n",
    "    ax[1,i].set_title(\"h23v05  day %d\" % doy)\n",
    "    ax[1,i].axis('off')\n",
    "#fig.savefig('/Users/brodzik/tmp/scag_gf_2001120.v6v8.png')"
   ]
  },
  {
   "cell_type": "code",
   "execution_count": null,
   "metadata": {},
   "outputs": [],
   "source": [
    "basinDir = '/scratch/summit/brodzik/ti_model/basins/partner_basins/'\n",
    "%cd $basinDir\n",
    "basins = glob.glob(\"BL*\")\n",
    "basins"
   ]
  },
  {
   "cell_type": "code",
   "execution_count": null,
   "metadata": {},
   "outputs": [],
   "source": [
    "for i, basin in enumerate(basins):\n",
    "    print(basin)\n",
    "    fileList = glob.glob(\"%s/%s/%s*basin_mask*tif\" % (basinDir, basin, basin))\n",
    "    print(fileList[0])\n",
    "    \n",
    "    mask = read_tile(fileList[0], verbose=True)\n",
    "    \n",
    "    if 0 == i:\n",
    "        all = mask.copy()\n",
    "    else:\n",
    "        idx = mask == 1\n",
    "        all[idx] = i + 1\n",
    "        \n",
    "    print(np.amin(all), np.amax(all))"
   ]
  },
  {
   "cell_type": "code",
   "execution_count": null,
   "metadata": {
    "scrolled": false
   },
   "outputs": [],
   "source": [
    "doy = 41\n",
    "fig, ax = plt.subplots(1,2)\n",
    "scag_data = h23v04_cube.read(doy=doy)\n",
    "ax[0].imshow(scag_data, cmap=plt.cm.gray, vmin=0.0, vmax=1.0, interpolation='None')\n",
    "ax[0].set_title(\"h23v04 day %d\" % doy)\n",
    "ax[0].axis('off')\n",
    "ax[1].imshow(all, cmap=plt.cm.terrain, vmin=0.0, vmax=5.0, interpolation='None')\n",
    "ax[1].set_title(\"BL basins\")\n",
    "ax[1].axis('off')\n",
    "plt.tight_layout()\n",
    "#fig.savefig('/projects/brodzik/charis_ti_melt/BL_basins_vs_scag_area.png')\n"
   ]
  },
  {
   "cell_type": "code",
   "execution_count": null,
   "metadata": {
    "scrolled": true
   },
   "outputs": [],
   "source": [
    "15 * 14"
   ]
  },
  {
   "cell_type": "code",
   "execution_count": null,
   "metadata": {},
   "outputs": [],
   "source": [
    "new_cube.close()\n",
    "orig_cube.close()"
   ]
  },
  {
   "cell_type": "code",
   "execution_count": null,
   "metadata": {},
   "outputs": [],
   "source": [
    "d5.dtype, orig_d5.dtype"
   ]
  },
  {
   "cell_type": "code",
   "execution_count": null,
   "metadata": {},
   "outputs": [],
   "source": [
    "diff = d5 - orig_d5\n",
    "print(np.amin(diff), np.amax(diff))"
   ]
  },
  {
   "cell_type": "code",
   "execution_count": null,
   "metadata": {
    "scrolled": false
   },
   "outputs": [],
   "source": [
    "fig, ax = plt.subplots(1)\n",
    "ax.imshow(diff, cmap=plt.cm.gray, interpolation='None')\n",
    "ax.set_title(\"Diff (new - orig)\")\n",
    "plt.axis('off')"
   ]
  },
  {
   "cell_type": "code",
   "execution_count": null,
   "metadata": {},
   "outputs": [],
   "source": [
    "print(d5[2397:2399, 2397:2399])"
   ]
  },
  {
   "cell_type": "code",
   "execution_count": null,
   "metadata": {},
   "outputs": [],
   "source": [
    "print(orig_d5[2397:2399, 2397:2399])\n"
   ]
  },
  {
   "cell_type": "code",
   "execution_count": null,
   "metadata": {},
   "outputs": [],
   "source": []
  }
 ],
 "metadata": {
  "kernelspec": {
   "display_name": "Python 2",
   "language": "python",
   "name": "python2"
  },
  "language_info": {
   "codemirror_mode": {
    "name": "ipython",
    "version": 2
   },
   "file_extension": ".py",
   "mimetype": "text/x-python",
   "name": "python",
   "nbconvert_exporter": "python",
   "pygments_lexer": "ipython2",
   "version": "2.7.14"
  }
 },
 "nbformat": 4,
 "nbformat_minor": 1
}
